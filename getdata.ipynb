{
 "cells": [
  {
   "cell_type": "code",
   "execution_count": 5,
   "metadata": {},
   "outputs": [],
   "source": [
    "import yfinance as yf\n",
    "\n",
    "\n"
   ]
  },
  {
   "cell_type": "code",
   "execution_count": 7,
   "metadata": {},
   "outputs": [
    {
     "name": "stdout",
     "output_type": "stream",
     "text": [
      "[*********************100%***********************]  2 of 2 completed\n"
     ]
    }
   ],
   "source": [
    "data_df = yf.download(\"AAPL MFST\", start=\"2020-02-01\", end=\"2020-03-20\")\n",
    "data_df.to_csv('aapl.csv')\n"
   ]
  },
  {
   "cell_type": "code",
   "execution_count": 12,
   "metadata": {},
   "outputs": [
    {
     "data": {
      "text/html": [
       "<div>\n",
       "<style scoped>\n",
       "    .dataframe tbody tr th:only-of-type {\n",
       "        vertical-align: middle;\n",
       "    }\n",
       "\n",
       "    .dataframe tbody tr th {\n",
       "        vertical-align: top;\n",
       "    }\n",
       "\n",
       "    .dataframe thead tr th {\n",
       "        text-align: left;\n",
       "    }\n",
       "\n",
       "    .dataframe thead tr:last-of-type th {\n",
       "        text-align: right;\n",
       "    }\n",
       "</style>\n",
       "<table border=\"1\" class=\"dataframe\">\n",
       "  <thead>\n",
       "    <tr>\n",
       "      <th></th>\n",
       "      <th colspan=\"2\" halign=\"left\">Adj Close</th>\n",
       "      <th colspan=\"2\" halign=\"left\">Close</th>\n",
       "      <th colspan=\"2\" halign=\"left\">High</th>\n",
       "      <th colspan=\"2\" halign=\"left\">Low</th>\n",
       "      <th colspan=\"2\" halign=\"left\">Open</th>\n",
       "      <th colspan=\"2\" halign=\"left\">Volume</th>\n",
       "    </tr>\n",
       "    <tr>\n",
       "      <th></th>\n",
       "      <th>AAPL</th>\n",
       "      <th>MFST</th>\n",
       "      <th>AAPL</th>\n",
       "      <th>MFST</th>\n",
       "      <th>AAPL</th>\n",
       "      <th>MFST</th>\n",
       "      <th>AAPL</th>\n",
       "      <th>MFST</th>\n",
       "      <th>AAPL</th>\n",
       "      <th>MFST</th>\n",
       "      <th>AAPL</th>\n",
       "      <th>MFST</th>\n",
       "    </tr>\n",
       "    <tr>\n",
       "      <th>Date</th>\n",
       "      <th></th>\n",
       "      <th></th>\n",
       "      <th></th>\n",
       "      <th></th>\n",
       "      <th></th>\n",
       "      <th></th>\n",
       "      <th></th>\n",
       "      <th></th>\n",
       "      <th></th>\n",
       "      <th></th>\n",
       "      <th></th>\n",
       "      <th></th>\n",
       "    </tr>\n",
       "  </thead>\n",
       "  <tbody>\n",
       "    <tr>\n",
       "      <th>2020-02-03</th>\n",
       "      <td>307.097900</td>\n",
       "      <td>0.00050</td>\n",
       "      <td>308.660004</td>\n",
       "      <td>0.00050</td>\n",
       "      <td>313.489990</td>\n",
       "      <td>0.0006</td>\n",
       "      <td>302.220001</td>\n",
       "      <td>0.00050</td>\n",
       "      <td>304.299988</td>\n",
       "      <td>0.00050</td>\n",
       "      <td>43496400</td>\n",
       "      <td>2270425</td>\n",
       "    </tr>\n",
       "    <tr>\n",
       "      <th>2020-02-04</th>\n",
       "      <td>317.236298</td>\n",
       "      <td>0.00060</td>\n",
       "      <td>318.850006</td>\n",
       "      <td>0.00060</td>\n",
       "      <td>319.640015</td>\n",
       "      <td>0.0006</td>\n",
       "      <td>313.630005</td>\n",
       "      <td>0.00050</td>\n",
       "      <td>315.309998</td>\n",
       "      <td>0.00055</td>\n",
       "      <td>34154100</td>\n",
       "      <td>3263135</td>\n",
       "    </tr>\n",
       "    <tr>\n",
       "      <th>2020-02-05</th>\n",
       "      <td>319.823181</td>\n",
       "      <td>0.00050</td>\n",
       "      <td>321.450012</td>\n",
       "      <td>0.00050</td>\n",
       "      <td>324.760010</td>\n",
       "      <td>0.0006</td>\n",
       "      <td>318.950012</td>\n",
       "      <td>0.00049</td>\n",
       "      <td>323.519989</td>\n",
       "      <td>0.00060</td>\n",
       "      <td>29706700</td>\n",
       "      <td>29231801</td>\n",
       "    </tr>\n",
       "    <tr>\n",
       "      <th>2020-02-06</th>\n",
       "      <td>323.564117</td>\n",
       "      <td>0.00050</td>\n",
       "      <td>325.209991</td>\n",
       "      <td>0.00050</td>\n",
       "      <td>325.220001</td>\n",
       "      <td>0.0006</td>\n",
       "      <td>320.260010</td>\n",
       "      <td>0.00040</td>\n",
       "      <td>322.570007</td>\n",
       "      <td>0.00050</td>\n",
       "      <td>26356400</td>\n",
       "      <td>8560589</td>\n",
       "    </tr>\n",
       "    <tr>\n",
       "      <th>2020-02-07</th>\n",
       "      <td>319.166016</td>\n",
       "      <td>0.00049</td>\n",
       "      <td>320.029999</td>\n",
       "      <td>0.00049</td>\n",
       "      <td>323.399994</td>\n",
       "      <td>0.0005</td>\n",
       "      <td>318.000000</td>\n",
       "      <td>0.00045</td>\n",
       "      <td>322.369995</td>\n",
       "      <td>0.00050</td>\n",
       "      <td>29421000</td>\n",
       "      <td>12183028</td>\n",
       "    </tr>\n",
       "  </tbody>\n",
       "</table>\n",
       "</div>"
      ],
      "text/plain": [
       "             Adj Close                Close                 High          \\\n",
       "                  AAPL     MFST        AAPL     MFST        AAPL    MFST   \n",
       "Date                                                                       \n",
       "2020-02-03  307.097900  0.00050  308.660004  0.00050  313.489990  0.0006   \n",
       "2020-02-04  317.236298  0.00060  318.850006  0.00060  319.640015  0.0006   \n",
       "2020-02-05  319.823181  0.00050  321.450012  0.00050  324.760010  0.0006   \n",
       "2020-02-06  323.564117  0.00050  325.209991  0.00050  325.220001  0.0006   \n",
       "2020-02-07  319.166016  0.00049  320.029999  0.00049  323.399994  0.0005   \n",
       "\n",
       "                   Low                 Open             Volume            \n",
       "                  AAPL     MFST        AAPL     MFST      AAPL      MFST  \n",
       "Date                                                                      \n",
       "2020-02-03  302.220001  0.00050  304.299988  0.00050  43496400   2270425  \n",
       "2020-02-04  313.630005  0.00050  315.309998  0.00055  34154100   3263135  \n",
       "2020-02-05  318.950012  0.00049  323.519989  0.00060  29706700  29231801  \n",
       "2020-02-06  320.260010  0.00040  322.570007  0.00050  26356400   8560589  \n",
       "2020-02-07  318.000000  0.00045  322.369995  0.00050  29421000  12183028  "
      ]
     },
     "execution_count": 12,
     "metadata": {},
     "output_type": "execute_result"
    }
   ],
   "source": [
    "data_df.head()"
   ]
  },
  {
   "cell_type": "code",
   "execution_count": 18,
   "metadata": {},
   "outputs": [
    {
     "name": "stdout",
     "output_type": "stream",
     "text": [
      "[*********************100%***********************]  10 of 10 completed\n"
     ]
    }
   ],
   "source": [
    "data = yf.download(\n",
    "        tickers = \"IVV SPY VOO QQQ VTI IWB GLD EEM XLF GDX\",\n",
    "        period = \"ytd\",\n",
    "        group_by = \"ticker\",\n",
    "        auto_adjust = True,\n",
    "        prepost = True,\n",
    "        threads = True,\n",
    "        proxy = None)"
   ]
  },
  {
   "cell_type": "code",
   "execution_count": 21,
   "metadata": {},
   "outputs": [],
   "source": [
    "data.to_csv('stockdata.csv')"
   ]
  },
  {
   "cell_type": "code",
   "execution_count": null,
   "metadata": {},
   "outputs": [],
   "source": []
  }
 ],
 "metadata": {
  "kernelspec": {
   "display_name": "Python 3.7.6 64-bit ('pythondata': conda)",
   "language": "python",
   "name": "python37664bitpythondataconda881d02e1431a40fa9995361999e4ee52"
  },
  "language_info": {
   "codemirror_mode": {
    "name": "ipython",
    "version": 3
   },
   "file_extension": ".py",
   "mimetype": "text/x-python",
   "name": "python",
   "nbconvert_exporter": "python",
   "pygments_lexer": "ipython3",
   "version": "3.7.6"
  }
 },
 "nbformat": 4,
 "nbformat_minor": 4
}
