{
 "cells": [
  {
   "cell_type": "code",
   "execution_count": 1,
   "metadata": {},
   "outputs": [],
   "source": [
    "#Import Dependencies\n",
    "import pandas as pd"
   ]
  },
  {
   "cell_type": "code",
   "execution_count": 2,
   "metadata": {},
   "outputs": [
    {
     "output_type": "execute_result",
     "data": {
      "text/plain": "   countyFIPS            County Name State  stateFIPS  1/22/20  1/23/20  \\\n0           0  Statewide Unallocated    AL          1        0        0   \n1        1001         Autauga County    AL          1        0        0   \n2        1003         Baldwin County    AL          1        0        0   \n3        1005         Barbour County    AL          1        0        0   \n4        1007            Bibb County    AL          1        0        0   \n\n   1/24/20  1/25/20  1/26/20  1/27/20  ...  5/16/20  5/17/20  5/18/20  \\\n0        0        0        0        0  ...        0        0        0   \n1        0        0        0        0  ...      110      110      120   \n2        0        0        0        0  ...      254      254      260   \n3        0        0        0        0  ...       79       81       85   \n4        0        0        0        0  ...       50       50       50   \n\n   5/19/20  5/20/20  5/21/20  5/22/20  5/23/20  5/24/20  5/25/20  \n0        0        0        0        0        0        0        0  \n1      127      136      147      149      155      159      173  \n2      262      270      270      271      273      274      276  \n3       90       96      100      104      105      110      116  \n4       51       52       52       55       58       59       62  \n\n[5 rows x 129 columns]",
      "text/html": "<div>\n<style scoped>\n    .dataframe tbody tr th:only-of-type {\n        vertical-align: middle;\n    }\n\n    .dataframe tbody tr th {\n        vertical-align: top;\n    }\n\n    .dataframe thead th {\n        text-align: right;\n    }\n</style>\n<table border=\"1\" class=\"dataframe\">\n  <thead>\n    <tr style=\"text-align: right;\">\n      <th></th>\n      <th>countyFIPS</th>\n      <th>County Name</th>\n      <th>State</th>\n      <th>stateFIPS</th>\n      <th>1/22/20</th>\n      <th>1/23/20</th>\n      <th>1/24/20</th>\n      <th>1/25/20</th>\n      <th>1/26/20</th>\n      <th>1/27/20</th>\n      <th>...</th>\n      <th>5/16/20</th>\n      <th>5/17/20</th>\n      <th>5/18/20</th>\n      <th>5/19/20</th>\n      <th>5/20/20</th>\n      <th>5/21/20</th>\n      <th>5/22/20</th>\n      <th>5/23/20</th>\n      <th>5/24/20</th>\n      <th>5/25/20</th>\n    </tr>\n  </thead>\n  <tbody>\n    <tr>\n      <th>0</th>\n      <td>0</td>\n      <td>Statewide Unallocated</td>\n      <td>AL</td>\n      <td>1</td>\n      <td>0</td>\n      <td>0</td>\n      <td>0</td>\n      <td>0</td>\n      <td>0</td>\n      <td>0</td>\n      <td>...</td>\n      <td>0</td>\n      <td>0</td>\n      <td>0</td>\n      <td>0</td>\n      <td>0</td>\n      <td>0</td>\n      <td>0</td>\n      <td>0</td>\n      <td>0</td>\n      <td>0</td>\n    </tr>\n    <tr>\n      <th>1</th>\n      <td>1001</td>\n      <td>Autauga County</td>\n      <td>AL</td>\n      <td>1</td>\n      <td>0</td>\n      <td>0</td>\n      <td>0</td>\n      <td>0</td>\n      <td>0</td>\n      <td>0</td>\n      <td>...</td>\n      <td>110</td>\n      <td>110</td>\n      <td>120</td>\n      <td>127</td>\n      <td>136</td>\n      <td>147</td>\n      <td>149</td>\n      <td>155</td>\n      <td>159</td>\n      <td>173</td>\n    </tr>\n    <tr>\n      <th>2</th>\n      <td>1003</td>\n      <td>Baldwin County</td>\n      <td>AL</td>\n      <td>1</td>\n      <td>0</td>\n      <td>0</td>\n      <td>0</td>\n      <td>0</td>\n      <td>0</td>\n      <td>0</td>\n      <td>...</td>\n      <td>254</td>\n      <td>254</td>\n      <td>260</td>\n      <td>262</td>\n      <td>270</td>\n      <td>270</td>\n      <td>271</td>\n      <td>273</td>\n      <td>274</td>\n      <td>276</td>\n    </tr>\n    <tr>\n      <th>3</th>\n      <td>1005</td>\n      <td>Barbour County</td>\n      <td>AL</td>\n      <td>1</td>\n      <td>0</td>\n      <td>0</td>\n      <td>0</td>\n      <td>0</td>\n      <td>0</td>\n      <td>0</td>\n      <td>...</td>\n      <td>79</td>\n      <td>81</td>\n      <td>85</td>\n      <td>90</td>\n      <td>96</td>\n      <td>100</td>\n      <td>104</td>\n      <td>105</td>\n      <td>110</td>\n      <td>116</td>\n    </tr>\n    <tr>\n      <th>4</th>\n      <td>1007</td>\n      <td>Bibb County</td>\n      <td>AL</td>\n      <td>1</td>\n      <td>0</td>\n      <td>0</td>\n      <td>0</td>\n      <td>0</td>\n      <td>0</td>\n      <td>0</td>\n      <td>...</td>\n      <td>50</td>\n      <td>50</td>\n      <td>50</td>\n      <td>51</td>\n      <td>52</td>\n      <td>52</td>\n      <td>55</td>\n      <td>58</td>\n      <td>59</td>\n      <td>62</td>\n    </tr>\n  </tbody>\n</table>\n<p>5 rows × 129 columns</p>\n</div>"
     },
     "metadata": {},
     "execution_count": 2
    }
   ],
   "source": [
    "#Read in confirmed case data\n",
    "infection_data = pd.read_csv(\"data/covid_confirmed_usafacts.csv\")\n",
    "infection_data.head()"
   ]
  },
  {
   "cell_type": "code",
   "execution_count": 4,
   "metadata": {},
   "outputs": [
    {
     "output_type": "execute_result",
     "data": {
      "text/plain": "   countyFIPS            County Name State  stateFIPS  1/22/20  1/23/20  \\\n0           0  Statewide Unallocated    AL          1        0        0   \n1        1001         Autauga County    AL          1        0        0   \n2        1003         Baldwin County    AL          1        0        0   \n3        1005         Barbour County    AL          1        0        0   \n4        1007            Bibb County    AL          1        0        0   \n\n   1/24/20  1/25/20  1/26/20  1/27/20  ...  5/16/20  5/17/20  5/18/20  \\\n0        0        0        0        0  ...        0        0        0   \n1        0        0        0        0  ...        3        3        3   \n2        0        0        0        0  ...        8        8        8   \n3        0        0        0        0  ...        1        1        1   \n4        0        0        0        0  ...        1        1        1   \n\n   5/19/20  5/20/20  5/21/20  5/22/20  5/23/20  5/24/20  5/25/20  \n0        0        0        0        0        0        0        0  \n1        3        3        3        3        3        3        3  \n2        8        8        8        9        9        9        9  \n3        1        1        1        1        1        1        1  \n4        1        1        1        1        1        1        1  \n\n[5 rows x 129 columns]",
      "text/html": "<div>\n<style scoped>\n    .dataframe tbody tr th:only-of-type {\n        vertical-align: middle;\n    }\n\n    .dataframe tbody tr th {\n        vertical-align: top;\n    }\n\n    .dataframe thead th {\n        text-align: right;\n    }\n</style>\n<table border=\"1\" class=\"dataframe\">\n  <thead>\n    <tr style=\"text-align: right;\">\n      <th></th>\n      <th>countyFIPS</th>\n      <th>County Name</th>\n      <th>State</th>\n      <th>stateFIPS</th>\n      <th>1/22/20</th>\n      <th>1/23/20</th>\n      <th>1/24/20</th>\n      <th>1/25/20</th>\n      <th>1/26/20</th>\n      <th>1/27/20</th>\n      <th>...</th>\n      <th>5/16/20</th>\n      <th>5/17/20</th>\n      <th>5/18/20</th>\n      <th>5/19/20</th>\n      <th>5/20/20</th>\n      <th>5/21/20</th>\n      <th>5/22/20</th>\n      <th>5/23/20</th>\n      <th>5/24/20</th>\n      <th>5/25/20</th>\n    </tr>\n  </thead>\n  <tbody>\n    <tr>\n      <th>0</th>\n      <td>0</td>\n      <td>Statewide Unallocated</td>\n      <td>AL</td>\n      <td>1</td>\n      <td>0</td>\n      <td>0</td>\n      <td>0</td>\n      <td>0</td>\n      <td>0</td>\n      <td>0</td>\n      <td>...</td>\n      <td>0</td>\n      <td>0</td>\n      <td>0</td>\n      <td>0</td>\n      <td>0</td>\n      <td>0</td>\n      <td>0</td>\n      <td>0</td>\n      <td>0</td>\n      <td>0</td>\n    </tr>\n    <tr>\n      <th>1</th>\n      <td>1001</td>\n      <td>Autauga County</td>\n      <td>AL</td>\n      <td>1</td>\n      <td>0</td>\n      <td>0</td>\n      <td>0</td>\n      <td>0</td>\n      <td>0</td>\n      <td>0</td>\n      <td>...</td>\n      <td>3</td>\n      <td>3</td>\n      <td>3</td>\n      <td>3</td>\n      <td>3</td>\n      <td>3</td>\n      <td>3</td>\n      <td>3</td>\n      <td>3</td>\n      <td>3</td>\n    </tr>\n    <tr>\n      <th>2</th>\n      <td>1003</td>\n      <td>Baldwin County</td>\n      <td>AL</td>\n      <td>1</td>\n      <td>0</td>\n      <td>0</td>\n      <td>0</td>\n      <td>0</td>\n      <td>0</td>\n      <td>0</td>\n      <td>...</td>\n      <td>8</td>\n      <td>8</td>\n      <td>8</td>\n      <td>8</td>\n      <td>8</td>\n      <td>8</td>\n      <td>9</td>\n      <td>9</td>\n      <td>9</td>\n      <td>9</td>\n    </tr>\n    <tr>\n      <th>3</th>\n      <td>1005</td>\n      <td>Barbour County</td>\n      <td>AL</td>\n      <td>1</td>\n      <td>0</td>\n      <td>0</td>\n      <td>0</td>\n      <td>0</td>\n      <td>0</td>\n      <td>0</td>\n      <td>...</td>\n      <td>1</td>\n      <td>1</td>\n      <td>1</td>\n      <td>1</td>\n      <td>1</td>\n      <td>1</td>\n      <td>1</td>\n      <td>1</td>\n      <td>1</td>\n      <td>1</td>\n    </tr>\n    <tr>\n      <th>4</th>\n      <td>1007</td>\n      <td>Bibb County</td>\n      <td>AL</td>\n      <td>1</td>\n      <td>0</td>\n      <td>0</td>\n      <td>0</td>\n      <td>0</td>\n      <td>0</td>\n      <td>0</td>\n      <td>...</td>\n      <td>1</td>\n      <td>1</td>\n      <td>1</td>\n      <td>1</td>\n      <td>1</td>\n      <td>1</td>\n      <td>1</td>\n      <td>1</td>\n      <td>1</td>\n      <td>1</td>\n    </tr>\n  </tbody>\n</table>\n<p>5 rows × 129 columns</p>\n</div>"
     },
     "metadata": {},
     "execution_count": 4
    }
   ],
   "source": [
    "#Read in death data\n",
    "death_data = pd.read_csv(\"data/covid_deaths_usafacts.csv\")\n",
    "death_data.head()"
   ]
  },
  {
   "cell_type": "code",
   "execution_count": null,
   "metadata": {},
   "outputs": [],
   "source": []
  }
 ],
 "metadata": {
  "language_info": {
   "codemirror_mode": {
    "name": "ipython",
    "version": 3
   },
   "file_extension": ".py",
   "mimetype": "text/x-python",
   "name": "python",
   "nbconvert_exporter": "python",
   "pygments_lexer": "ipython3",
   "version": "3.7.6-final"
  },
  "orig_nbformat": 2,
  "kernelspec": {
   "name": "python37664bitpythondataconda9adbda39bd454e7faf6cd0d67b7317a9",
   "display_name": "Python 3.7.6 64-bit ('PythonData': conda)"
  }
 },
 "nbformat": 4,
 "nbformat_minor": 2
}