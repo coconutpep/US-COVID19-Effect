{
 "cells": [
  {
   "cell_type": "code",
   "execution_count": 1,
   "metadata": {},
   "outputs": [],
   "source": [
    "#Import Dependencies\n",
    "import pandas as pd"
   ]
  },
  {
   "cell_type": "code",
   "execution_count": 5,
   "metadata": {},
   "outputs": [
    {
     "output_type": "execute_result",
     "data": {
      "text/plain": "   UID iso2 iso3  code3  FIPS Admin2            Province_State Country_Region  \\\n0   16   AS  ASM     16  60.0    NaN            American Samoa             US   \n1  316   GU  GUM    316  66.0    NaN                      Guam             US   \n2  580   MP  MNP    580  69.0    NaN  Northern Mariana Islands             US   \n3  630   PR  PRI    630  72.0    NaN               Puerto Rico             US   \n4  850   VI  VIR    850  78.0    NaN            Virgin Islands             US   \n\n       Lat     Long_                  Combined_Key     Date  Confirmed  Deaths  \n0 -14.2710 -170.1320            American Samoa, US  1/22/20          0       0  \n1  13.4443  144.7937                      Guam, US  1/22/20          0       0  \n2  15.0979  145.6739  Northern Mariana Islands, US  1/22/20          0       0  \n3  18.2208  -66.5901               Puerto Rico, US  1/22/20          0       0  \n4  18.3358  -64.8963            Virgin Islands, US  1/22/20          0       0  ",
      "text/html": "<div>\n<style scoped>\n    .dataframe tbody tr th:only-of-type {\n        vertical-align: middle;\n    }\n\n    .dataframe tbody tr th {\n        vertical-align: top;\n    }\n\n    .dataframe thead th {\n        text-align: right;\n    }\n</style>\n<table border=\"1\" class=\"dataframe\">\n  <thead>\n    <tr style=\"text-align: right;\">\n      <th></th>\n      <th>UID</th>\n      <th>iso2</th>\n      <th>iso3</th>\n      <th>code3</th>\n      <th>FIPS</th>\n      <th>Admin2</th>\n      <th>Province_State</th>\n      <th>Country_Region</th>\n      <th>Lat</th>\n      <th>Long_</th>\n      <th>Combined_Key</th>\n      <th>Date</th>\n      <th>Confirmed</th>\n      <th>Deaths</th>\n    </tr>\n  </thead>\n  <tbody>\n    <tr>\n      <th>0</th>\n      <td>16</td>\n      <td>AS</td>\n      <td>ASM</td>\n      <td>16</td>\n      <td>60.0</td>\n      <td>NaN</td>\n      <td>American Samoa</td>\n      <td>US</td>\n      <td>-14.2710</td>\n      <td>-170.1320</td>\n      <td>American Samoa, US</td>\n      <td>1/22/20</td>\n      <td>0</td>\n      <td>0</td>\n    </tr>\n    <tr>\n      <th>1</th>\n      <td>316</td>\n      <td>GU</td>\n      <td>GUM</td>\n      <td>316</td>\n      <td>66.0</td>\n      <td>NaN</td>\n      <td>Guam</td>\n      <td>US</td>\n      <td>13.4443</td>\n      <td>144.7937</td>\n      <td>Guam, US</td>\n      <td>1/22/20</td>\n      <td>0</td>\n      <td>0</td>\n    </tr>\n    <tr>\n      <th>2</th>\n      <td>580</td>\n      <td>MP</td>\n      <td>MNP</td>\n      <td>580</td>\n      <td>69.0</td>\n      <td>NaN</td>\n      <td>Northern Mariana Islands</td>\n      <td>US</td>\n      <td>15.0979</td>\n      <td>145.6739</td>\n      <td>Northern Mariana Islands, US</td>\n      <td>1/22/20</td>\n      <td>0</td>\n      <td>0</td>\n    </tr>\n    <tr>\n      <th>3</th>\n      <td>630</td>\n      <td>PR</td>\n      <td>PRI</td>\n      <td>630</td>\n      <td>72.0</td>\n      <td>NaN</td>\n      <td>Puerto Rico</td>\n      <td>US</td>\n      <td>18.2208</td>\n      <td>-66.5901</td>\n      <td>Puerto Rico, US</td>\n      <td>1/22/20</td>\n      <td>0</td>\n      <td>0</td>\n    </tr>\n    <tr>\n      <th>4</th>\n      <td>850</td>\n      <td>VI</td>\n      <td>VIR</td>\n      <td>850</td>\n      <td>78.0</td>\n      <td>NaN</td>\n      <td>Virgin Islands</td>\n      <td>US</td>\n      <td>18.3358</td>\n      <td>-64.8963</td>\n      <td>Virgin Islands, US</td>\n      <td>1/22/20</td>\n      <td>0</td>\n      <td>0</td>\n    </tr>\n  </tbody>\n</table>\n</div>"
     },
     "metadata": {},
     "execution_count": 5
    }
   ],
   "source": [
    "#Read in csv data for County infeciton and death rates\n",
    "infection_data = pd.read_csv(\"usa_county_wise.csv\")\n",
    "#Check for data read\n",
    "infection_data.head()"
   ]
  },
  {
   "cell_type": "code",
   "execution_count": 6,
   "metadata": {},
   "outputs": [
    {
     "output_type": "execute_result",
     "data": {
      "text/plain": "  Admin2            Province_State      Lat     Long_     Date  Confirmed  \\\n0    NaN            American Samoa -14.2710 -170.1320  1/22/20          0   \n1    NaN                      Guam  13.4443  144.7937  1/22/20          0   \n2    NaN  Northern Mariana Islands  15.0979  145.6739  1/22/20          0   \n3    NaN               Puerto Rico  18.2208  -66.5901  1/22/20          0   \n4    NaN            Virgin Islands  18.3358  -64.8963  1/22/20          0   \n\n   Deaths  \n0       0  \n1       0  \n2       0  \n3       0  \n4       0  ",
      "text/html": "<div>\n<style scoped>\n    .dataframe tbody tr th:only-of-type {\n        vertical-align: middle;\n    }\n\n    .dataframe tbody tr th {\n        vertical-align: top;\n    }\n\n    .dataframe thead th {\n        text-align: right;\n    }\n</style>\n<table border=\"1\" class=\"dataframe\">\n  <thead>\n    <tr style=\"text-align: right;\">\n      <th></th>\n      <th>Admin2</th>\n      <th>Province_State</th>\n      <th>Lat</th>\n      <th>Long_</th>\n      <th>Date</th>\n      <th>Confirmed</th>\n      <th>Deaths</th>\n    </tr>\n  </thead>\n  <tbody>\n    <tr>\n      <th>0</th>\n      <td>NaN</td>\n      <td>American Samoa</td>\n      <td>-14.2710</td>\n      <td>-170.1320</td>\n      <td>1/22/20</td>\n      <td>0</td>\n      <td>0</td>\n    </tr>\n    <tr>\n      <th>1</th>\n      <td>NaN</td>\n      <td>Guam</td>\n      <td>13.4443</td>\n      <td>144.7937</td>\n      <td>1/22/20</td>\n      <td>0</td>\n      <td>0</td>\n    </tr>\n    <tr>\n      <th>2</th>\n      <td>NaN</td>\n      <td>Northern Mariana Islands</td>\n      <td>15.0979</td>\n      <td>145.6739</td>\n      <td>1/22/20</td>\n      <td>0</td>\n      <td>0</td>\n    </tr>\n    <tr>\n      <th>3</th>\n      <td>NaN</td>\n      <td>Puerto Rico</td>\n      <td>18.2208</td>\n      <td>-66.5901</td>\n      <td>1/22/20</td>\n      <td>0</td>\n      <td>0</td>\n    </tr>\n    <tr>\n      <th>4</th>\n      <td>NaN</td>\n      <td>Virgin Islands</td>\n      <td>18.3358</td>\n      <td>-64.8963</td>\n      <td>1/22/20</td>\n      <td>0</td>\n      <td>0</td>\n    </tr>\n  </tbody>\n</table>\n</div>"
     },
     "metadata": {},
     "execution_count": 6
    }
   ],
   "source": [
    "#Remove unwanted columns\n",
    "infection_data.drop([\"UID\", \"iso2\", \"iso3\", \"code3\", \"FIPS\", \"Combined_Key\", \"Country_Region\"], axis=1, inplace=True)\n",
    "infection_data.head()"
   ]
  },
  {
   "cell_type": "code",
   "execution_count": 8,
   "metadata": {},
   "outputs": [
    {
     "output_type": "execute_result",
     "data": {
      "text/plain": "  county                     state      lat      long     date  cases  deaths\n0    NaN            American Samoa -14.2710 -170.1320  1/22/20      0       0\n1    NaN                      Guam  13.4443  144.7937  1/22/20      0       0\n2    NaN  Northern Mariana Islands  15.0979  145.6739  1/22/20      0       0\n3    NaN               Puerto Rico  18.2208  -66.5901  1/22/20      0       0\n4    NaN            Virgin Islands  18.3358  -64.8963  1/22/20      0       0",
      "text/html": "<div>\n<style scoped>\n    .dataframe tbody tr th:only-of-type {\n        vertical-align: middle;\n    }\n\n    .dataframe tbody tr th {\n        vertical-align: top;\n    }\n\n    .dataframe thead th {\n        text-align: right;\n    }\n</style>\n<table border=\"1\" class=\"dataframe\">\n  <thead>\n    <tr style=\"text-align: right;\">\n      <th></th>\n      <th>county</th>\n      <th>state</th>\n      <th>lat</th>\n      <th>long</th>\n      <th>date</th>\n      <th>cases</th>\n      <th>deaths</th>\n    </tr>\n  </thead>\n  <tbody>\n    <tr>\n      <th>0</th>\n      <td>NaN</td>\n      <td>American Samoa</td>\n      <td>-14.2710</td>\n      <td>-170.1320</td>\n      <td>1/22/20</td>\n      <td>0</td>\n      <td>0</td>\n    </tr>\n    <tr>\n      <th>1</th>\n      <td>NaN</td>\n      <td>Guam</td>\n      <td>13.4443</td>\n      <td>144.7937</td>\n      <td>1/22/20</td>\n      <td>0</td>\n      <td>0</td>\n    </tr>\n    <tr>\n      <th>2</th>\n      <td>NaN</td>\n      <td>Northern Mariana Islands</td>\n      <td>15.0979</td>\n      <td>145.6739</td>\n      <td>1/22/20</td>\n      <td>0</td>\n      <td>0</td>\n    </tr>\n    <tr>\n      <th>3</th>\n      <td>NaN</td>\n      <td>Puerto Rico</td>\n      <td>18.2208</td>\n      <td>-66.5901</td>\n      <td>1/22/20</td>\n      <td>0</td>\n      <td>0</td>\n    </tr>\n    <tr>\n      <th>4</th>\n      <td>NaN</td>\n      <td>Virgin Islands</td>\n      <td>18.3358</td>\n      <td>-64.8963</td>\n      <td>1/22/20</td>\n      <td>0</td>\n      <td>0</td>\n    </tr>\n  </tbody>\n</table>\n</div>"
     },
     "metadata": {},
     "execution_count": 8
    }
   ],
   "source": [
    "#Rename columns for easier parsing later\n",
    "infection_data.rename(columns={\"Admin2\":\"county\", \"Province_State\":\"state\", \"Lat\":\"lat\", \"Long_\":\"long\", \"Date\":\"date\", \"Confirmed\":\"cases\", \"Deaths\":\"deaths\"}, inplace=True)\n",
    "infection_data.head()"
   ]
  },
  {
   "cell_type": "code",
   "execution_count": 9,
   "metadata": {},
   "outputs": [],
   "source": [
    "infection_data.to_csv(\"docs/data/county_clean.csv\")"
   ]
  },
  {
   "cell_type": "code",
   "execution_count": 10,
   "metadata": {},
   "outputs": [
    {
     "output_type": "error",
     "ename": "SyntaxError",
     "evalue": "invalid syntax (<ipython-input-10-ec607b1a4e4f>, line 1)",
     "traceback": [
      "\u001b[1;36m  File \u001b[1;32m\"<ipython-input-10-ec607b1a4e4f>\"\u001b[1;36m, line \u001b[1;32m1\u001b[0m\n\u001b[1;33m    infection_data_test = infection_data.loc[infection_data.date = \"5/24/20\"]\u001b[0m\n\u001b[1;37m                                                                 ^\u001b[0m\n\u001b[1;31mSyntaxError\u001b[0m\u001b[1;31m:\u001b[0m invalid syntax\n"
     ]
    }
   ],
   "source": [
    "infection_data_test = infection_data.loc[infection_data[\"date\"] = \"5/24/20\"]\n",
    "infection_data_test.head()"
   ]
  },
  {
   "cell_type": "code",
   "execution_count": null,
   "metadata": {},
   "outputs": [],
   "source": []
  }
 ],
 "metadata": {
  "language_info": {
   "codemirror_mode": {
    "name": "ipython",
    "version": 3
   },
   "file_extension": ".py",
   "mimetype": "text/x-python",
   "name": "python",
   "nbconvert_exporter": "python",
   "pygments_lexer": "ipython3",
   "version": "3.7.6-final"
  },
  "orig_nbformat": 2,
  "kernelspec": {
   "name": "python37664bitpythondataconda9adbda39bd454e7faf6cd0d67b7317a9",
   "display_name": "Python 3.7.6 64-bit ('PythonData': conda)"
  }
 },
 "nbformat": 4,
 "nbformat_minor": 2
}