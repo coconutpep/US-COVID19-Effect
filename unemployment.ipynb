{
 "cells": [
  {
   "cell_type": "code",
   "execution_count": 1,
   "metadata": {},
   "outputs": [],
   "source": [
    "#import dependencies \n",
    "import pandas as pd\n",
    "import requests\n",
    "import json\n",
    "from pprint import pprint\n",
    "import config\n",
    "from time import sleep"
   ]
  },
  {
   "cell_type": "code",
   "execution_count": 2,
   "metadata": {},
   "outputs": [
    {
     "output_type": "stream",
     "name": "stdout",
     "text": "52\n25\n25\n2\n"
    }
   ],
   "source": [
    "#Read in area code data\n",
    "areaCodes_df = pd.read_csv(\"la.area.csv\")\n",
    "stateData = areaCodes_df.loc[areaCodes_df.area_type_code == \"A\"]\n",
    "areaCodes = stateData.area_code.to_list()\n",
    "#Split into list sizes for calling limits\n",
    "areaCodes_first25 = areaCodes[:25]\n",
    "areaCodes_mid = areaCodes[25:50]\n",
    "areaCodes_last = areaCodes[50:]\n",
    "#Check data\n",
    "print(len(areaCodes))\n",
    "print(len(areaCodes_first25))\n",
    "print(len(areaCodes_mid))\n",
    "print(len(areaCodes_last))"
   ]
  },
  {
   "cell_type": "code",
   "execution_count": 3,
   "metadata": {},
   "outputs": [
    {
     "output_type": "stream",
     "name": "stdout",
     "text": "25\n25\n2\n"
    },
    {
     "output_type": "execute_result",
     "data": {
      "text/plain": "['LAUST560000000000003', 'LAUST720000000000003']"
     },
     "metadata": {},
     "execution_count": 3
    }
   ],
   "source": [
    "#Create series Id code arrays\n",
    "firstCodes = []\n",
    "midCodes = []\n",
    "lastCodes = []\n",
    "#Function to create series codes\n",
    "def codeCreate(areaCode):\n",
    "    prefix = \"LAU\"\n",
    "    suffix = \"03\"\n",
    "    series_code = prefix + code + suffix\n",
    "    return series_code\n",
    "#For loops to create code lists\n",
    "for code in areaCodes_first25:\n",
    "    firstCodes.append(codeCreate(code))\n",
    "for code in areaCodes_mid:\n",
    "    midCodes.append(codeCreate(code))\n",
    "for code in areaCodes_last:\n",
    "    lastCodes.append(codeCreate(code))\n",
    "#Check Data\n",
    "print(len(firstCodes))\n",
    "print(len(midCodes))\n",
    "print(len(lastCodes))\n",
    "lastCodes"
   ]
  },
  {
   "cell_type": "code",
   "execution_count": 4,
   "metadata": {
    "tags": [
     "outputPrepend"
    ]
   },
   "outputs": [
    {
     "output_type": "execute_result",
     "data": {
      "text/plain": "3"
     },
     "metadata": {},
     "execution_count": 4
    }
   ],
   "source": [
    "#function to call api \n",
    "def apiCall(array):\n",
    "    headers = {'Content-type': 'application/json'}\n",
    "    data = json.dumps({\"seriesid\":array, \"startyear\":\"2020\", \"endyear\":\"2020\"})\n",
    "    p = requests.post('https://api.bls.gov/publicAPI/v2/timeseries/data/', data=data, headers=headers)\n",
    "    json_data = json.loads(p.text)\n",
    "    return json_data\n",
    "#Create array of series code arrays\n",
    "series_codes = [firstCodes, midCodes, lastCodes]\n",
    "#Create array to hold returned data\n",
    "api_data = []\n",
    "#For loop to call API for all series codes\n",
    "for array in series_codes:\n",
    "    request = apiCall(array)\n",
    "    api_data.append(request)\n",
    "    sleep(60)\n",
    "#check for data\n",
    "len(api_data)"
   ]
  },
  {
   "cell_type": "code",
   "execution_count": 12,
   "metadata": {},
   "outputs": [
    {
     "output_type": "execute_result",
     "data": {
      "text/plain": "{'status': 'REQUEST_SUCCEEDED',\n 'responseTime': 324,\n 'message': [],\n 'Results': {'series': [{'seriesID': 'LAUST010000000000003',\n    'data': [{'year': '2020',\n      'period': 'M04',\n      'periodName': 'April',\n      'latest': 'true',\n      'value': '13.3',\n      'footnotes': [{'code': 'P', 'text': 'Preliminary.'}]},\n     {'year': '2020',\n      'period': 'M03',\n      'periodName': 'March',\n      'value': '3.0',\n      'footnotes': [{}]},\n     {'year': '2020',\n      'period': 'M02',\n      'periodName': 'February',\n      'value': '2.9',\n      'footnotes': [{}]},\n     {'year': '2020',\n      'period': 'M01',\n      'periodName': 'January',\n      'value': '3.2',\n      'footnotes': [{}]}]},\n   {'seriesID': 'LAUST020000000000003',\n    'data': [{'year': '2020',\n      'period': 'M04',\n      'periodName': 'April',\n      'latest': 'true',\n      'value': '13.7',\n      'footnotes': [{'code': 'P', 'text': 'Preliminary.'}]},\n     {'year': '2020',\n      'period': 'M03',\n      'periodName': 'March',\n      'value': '5.9',\n      'footnotes': [{}]},\n     {'year': '2020',\n      'period': 'M02',\n      'periodName': 'February',\n      'value': '5.9',\n      'footnotes': [{}]},\n     {'year': '2020',\n      'period': 'M01',\n      'periodName': 'January',\n      'value': '6.6',\n      'footnotes': [{}]}]},\n   {'seriesID': 'LAUST040000000000003',\n    'data': [{'year': '2020',\n      'period': 'M04',\n      'periodName': 'April',\n      'latest': 'true',\n      'value': '12.9',\n      'footnotes': [{'code': 'P', 'text': 'Preliminary.'}]},\n     {'year': '2020',\n      'period': 'M03',\n      'periodName': 'March',\n      'value': '6.1',\n      'footnotes': [{}]},\n     {'year': '2020',\n      'period': 'M02',\n      'periodName': 'February',\n      'value': '4.4',\n      'footnotes': [{}]},\n     {'year': '2020',\n      'period': 'M01',\n      'periodName': 'January',\n      'value': '4.6',\n      'footnotes': [{}]}]},\n   {'seriesID': 'LAUST050000000000003',\n    'data': [{'year': '2020',\n      'period': 'M04',\n      'periodName': 'April',\n      'latest': 'true',\n      'value': '10.3',\n      'footnotes': [{'code': 'P', 'text': 'Preliminary.'}]},\n     {'year': '2020',\n      'period': 'M03',\n      'periodName': 'March',\n      'value': '4.9',\n      'footnotes': [{}]},\n     {'year': '2020',\n      'period': 'M02',\n      'periodName': 'February',\n      'value': '3.9',\n      'footnotes': [{}]},\n     {'year': '2020',\n      'period': 'M01',\n      'periodName': 'January',\n      'value': '4.1',\n      'footnotes': [{}]}]},\n   {'seriesID': 'LAUST060000000000003',\n    'data': [{'year': '2020',\n      'period': 'M04',\n      'periodName': 'April',\n      'latest': 'true',\n      'value': '16.1',\n      'footnotes': [{'code': 'P', 'text': 'Preliminary.'}]},\n     {'year': '2020',\n      'period': 'M03',\n      'periodName': 'March',\n      'value': '5.8',\n      'footnotes': [{}]},\n     {'year': '2020',\n      'period': 'M02',\n      'periodName': 'February',\n      'value': '4.3',\n      'footnotes': [{}]},\n     {'year': '2020',\n      'period': 'M01',\n      'periodName': 'January',\n      'value': '4.3',\n      'footnotes': [{}]}]},\n   {'seriesID': 'LAUST080000000000003',\n    'data': [{'year': '2020',\n      'period': 'M04',\n      'periodName': 'April',\n      'latest': 'true',\n      'value': '12.0',\n      'footnotes': [{'code': 'P', 'text': 'Preliminary.'}]},\n     {'year': '2020',\n      'period': 'M03',\n      'periodName': 'March',\n      'value': '5.4',\n      'footnotes': [{}]},\n     {'year': '2020',\n      'period': 'M02',\n      'periodName': 'February',\n      'value': '2.9',\n      'footnotes': [{}]},\n     {'year': '2020',\n      'period': 'M01',\n      'periodName': 'January',\n      'value': '2.8',\n      'footnotes': [{}]}]},\n   {'seriesID': 'LAUST090000000000003',\n    'data': [{'year': '2020',\n      'period': 'M04',\n      'periodName': 'April',\n      'latest': 'true',\n      'value': '8.0',\n      'footnotes': [{'code': 'P', 'text': 'Preliminary.'}]},\n     {'year': '2020',\n      'period': 'M03',\n      'periodName': 'March',\n      'value': '3.6',\n      'footnotes': [{}]},\n     {'year': '2020',\n      'period': 'M02',\n      'periodName': 'February',\n      'value': '4.4',\n      'footnotes': [{}]},\n     {'year': '2020',\n      'period': 'M01',\n      'periodName': 'January',\n      'value': '4.4',\n      'footnotes': [{}]}]},\n   {'seriesID': 'LAUST100000000000003',\n    'data': [{'year': '2020',\n      'period': 'M04',\n      'periodName': 'April',\n      'latest': 'true',\n      'value': '14.8',\n      'footnotes': [{'code': 'P', 'text': 'Preliminary.'}]},\n     {'year': '2020',\n      'period': 'M03',\n      'periodName': 'March',\n      'value': '5.0',\n      'footnotes': [{}]},\n     {'year': '2020',\n      'period': 'M02',\n      'periodName': 'February',\n      'value': '4.0',\n      'footnotes': [{}]},\n     {'year': '2020',\n      'period': 'M01',\n      'periodName': 'January',\n      'value': '4.2',\n      'footnotes': [{}]}]},\n   {'seriesID': 'LAUST110000000000003',\n    'data': [{'year': '2020',\n      'period': 'M04',\n      'periodName': 'April',\n      'latest': 'true',\n      'value': '11.1',\n      'footnotes': [{'code': 'P', 'text': 'Preliminary.'}]},\n     {'year': '2020',\n      'period': 'M03',\n      'periodName': 'March',\n      'value': '5.9',\n      'footnotes': [{}]},\n     {'year': '2020',\n      'period': 'M02',\n      'periodName': 'February',\n      'value': '5.2',\n      'footnotes': [{}]},\n     {'year': '2020',\n      'period': 'M01',\n      'periodName': 'January',\n      'value': '5.1',\n      'footnotes': [{}]}]},\n   {'seriesID': 'LAUST120000000000003',\n    'data': [{'year': '2020',\n      'period': 'M04',\n      'periodName': 'April',\n      'latest': 'true',\n      'value': '13.3',\n      'footnotes': [{'code': 'P', 'text': 'Preliminary.'}]},\n     {'year': '2020',\n      'period': 'M03',\n      'periodName': 'March',\n      'value': '4.3',\n      'footnotes': [{}]},\n     {'year': '2020',\n      'period': 'M02',\n      'periodName': 'February',\n      'value': '2.8',\n      'footnotes': [{}]},\n     {'year': '2020',\n      'period': 'M01',\n      'periodName': 'January',\n      'value': '3.0',\n      'footnotes': [{}]}]},\n   {'seriesID': 'LAUST130000000000003',\n    'data': [{'year': '2020',\n      'period': 'M04',\n      'periodName': 'April',\n      'latest': 'true',\n      'value': '12.2',\n      'footnotes': [{'code': 'P', 'text': 'Preliminary.'}]},\n     {'year': '2020',\n      'period': 'M03',\n      'periodName': 'March',\n      'value': '4.5',\n      'footnotes': [{}]},\n     {'year': '2020',\n      'period': 'M02',\n      'periodName': 'February',\n      'value': '3.5',\n      'footnotes': [{}]},\n     {'year': '2020',\n      'period': 'M01',\n      'periodName': 'January',\n      'value': '3.5',\n      'footnotes': [{}]}]},\n   {'seriesID': 'LAUST150000000000003',\n    'data': [{'year': '2020',\n      'period': 'M04',\n      'periodName': 'April',\n      'latest': 'true',\n      'value': '23.5',\n      'footnotes': [{'code': 'P', 'text': 'Preliminary.'}]},\n     {'year': '2020',\n      'period': 'M03',\n      'periodName': 'March',\n      'value': '2.3',\n      'footnotes': [{}]},\n     {'year': '2020',\n      'period': 'M02',\n      'periodName': 'February',\n      'value': '2.7',\n      'footnotes': [{}]},\n     {'year': '2020',\n      'period': 'M01',\n      'periodName': 'January',\n      'value': '2.9',\n      'footnotes': [{}]}]},\n   {'seriesID': 'LAUST160000000000003',\n    'data': [{'year': '2020',\n      'period': 'M04',\n      'periodName': 'April',\n      'latest': 'true',\n      'value': '11.8',\n      'footnotes': [{'code': 'P', 'text': 'Preliminary.'}]},\n     {'year': '2020',\n      'period': 'M03',\n      'periodName': 'March',\n      'value': '3.0',\n      'footnotes': [{}]},\n     {'year': '2020',\n      'period': 'M02',\n      'periodName': 'February',\n      'value': '3.1',\n      'footnotes': [{}]},\n     {'year': '2020',\n      'period': 'M01',\n      'periodName': 'January',\n      'value': '3.5',\n      'footnotes': [{}]}]},\n   {'seriesID': 'LAUST170000000000003',\n    'data': [{'year': '2020',\n      'period': 'M04',\n      'periodName': 'April',\n      'latest': 'true',\n      'value': '16.9',\n      'footnotes': [{'code': 'P', 'text': 'Preliminary.'}]},\n     {'year': '2020',\n      'period': 'M03',\n      'periodName': 'March',\n      'value': '4.2',\n      'footnotes': [{}]},\n     {'year': '2020',\n      'period': 'M02',\n      'periodName': 'February',\n      'value': '3.5',\n      'footnotes': [{}]},\n     {'year': '2020',\n      'period': 'M01',\n      'periodName': 'January',\n      'value': '4.0',\n      'footnotes': [{}]}]},\n   {'seriesID': 'LAUST180000000000003',\n    'data': [{'year': '2020',\n      'period': 'M04',\n      'periodName': 'April',\n      'latest': 'true',\n      'value': '17.1',\n      'footnotes': [{'code': 'P', 'text': 'Preliminary.'}]},\n     {'year': '2020',\n      'period': 'M03',\n      'periodName': 'March',\n      'value': '3.2',\n      'footnotes': [{}]},\n     {'year': '2020',\n      'period': 'M02',\n      'periodName': 'February',\n      'value': '3.4',\n      'footnotes': [{}]},\n     {'year': '2020',\n      'period': 'M01',\n      'periodName': 'January',\n      'value': '3.6',\n      'footnotes': [{}]}]},\n   {'seriesID': 'LAUST190000000000003',\n    'data': [{'year': '2020',\n      'period': 'M04',\n      'periodName': 'April',\n      'latest': 'true',\n      'value': '10.7',\n      'footnotes': [{'code': 'P', 'text': 'Preliminary.'}]},\n     {'year': '2020',\n      'period': 'M03',\n      'periodName': 'March',\n      'value': '3.6',\n      'footnotes': [{}]},\n     {'year': '2020',\n      'period': 'M02',\n      'periodName': 'February',\n      'value': '3.1',\n      'footnotes': [{}]},\n     {'year': '2020',\n      'period': 'M01',\n      'periodName': 'January',\n      'value': '3.7',\n      'footnotes': [{}]}]},\n   {'seriesID': 'LAUST200000000000003',\n    'data': [{'year': '2020',\n      'period': 'M04',\n      'periodName': 'April',\n      'latest': 'true',\n      'value': '11.6',\n      'footnotes': [{'code': 'P', 'text': 'Preliminary.'}]},\n     {'year': '2020',\n      'period': 'M03',\n      'periodName': 'March',\n      'value': '2.9',\n      'footnotes': [{}]},\n     {'year': '2020',\n      'period': 'M02',\n      'periodName': 'February',\n      'value': '3.3',\n      'footnotes': [{}]},\n     {'year': '2020',\n      'period': 'M01',\n      'periodName': 'January',\n      'value': '3.4',\n      'footnotes': [{}]}]},\n   {'seriesID': 'LAUST210000000000003',\n    'data': [{'year': '2020',\n      'period': 'M04',\n      'periodName': 'April',\n      'latest': 'true',\n      'value': '16.1',\n      'footnotes': [{'code': 'P', 'text': 'Preliminary.'}]},\n     {'year': '2020',\n      'period': 'M03',\n      'periodName': 'March',\n      'value': '5.3',\n      'footnotes': [{}]},\n     {'year': '2020',\n      'period': 'M02',\n      'periodName': 'February',\n      'value': '4.4',\n      'footnotes': [{}]},\n     {'year': '2020',\n      'period': 'M01',\n      'periodName': 'January',\n      'value': '4.8',\n      'footnotes': [{}]}]},\n   {'seriesID': 'LAUST220000000000003',\n    'data': [{'year': '2020',\n      'period': 'M04',\n      'periodName': 'April',\n      'latest': 'true',\n      'value': '14.5',\n      'footnotes': [{'code': 'P', 'text': 'Preliminary.'}]},\n     {'year': '2020',\n      'period': 'M03',\n      'periodName': 'March',\n      'value': '6.3',\n      'footnotes': [{}]},\n     {'year': '2020',\n      'period': 'M02',\n      'periodName': 'February',\n      'value': '4.3',\n      'footnotes': [{}]},\n     {'year': '2020',\n      'period': 'M01',\n      'periodName': 'January',\n      'value': '5.7',\n      'footnotes': [{}]}]},\n   {'seriesID': 'LAUST230000000000003',\n    'data': [{'year': '2020',\n      'period': 'M04',\n      'periodName': 'April',\n      'latest': 'true',\n      'value': '11.3',\n      'footnotes': [{'code': 'P', 'text': 'Preliminary.'}]},\n     {'year': '2020',\n      'period': 'M03',\n      'periodName': 'March',\n      'value': '3.6',\n      'footnotes': [{}]},\n     {'year': '2020',\n      'period': 'M02',\n      'periodName': 'February',\n      'value': '4.3',\n      'footnotes': [{}]},\n     {'year': '2020',\n      'period': 'M01',\n      'periodName': 'January',\n      'value': '4.1',\n      'footnotes': [{}]}]},\n   {'seriesID': 'LAUST240000000000003',\n    'data': [{'year': '2020',\n      'period': 'M04',\n      'periodName': 'April',\n      'latest': 'true',\n      'value': '10.1',\n      'footnotes': [{'code': 'P', 'text': 'Preliminary.'}]},\n     {'year': '2020',\n      'period': 'M03',\n      'periodName': 'March',\n      'value': '3.5',\n      'footnotes': [{}]},\n     {'year': '2020',\n      'period': 'M02',\n      'periodName': 'February',\n      'value': '3.5',\n      'footnotes': [{}]},\n     {'year': '2020',\n      'period': 'M01',\n      'periodName': 'January',\n      'value': '3.6',\n      'footnotes': [{}]}]},\n   {'seriesID': 'LAUST250000000000003',\n    'data': [{'year': '2020',\n      'period': 'M04',\n      'periodName': 'April',\n      'latest': 'true',\n      'value': '15.9',\n      'footnotes': [{'code': 'P', 'text': 'Preliminary.'}]},\n     {'year': '2020',\n      'period': 'M03',\n      'periodName': 'March',\n      'value': '3.0',\n      'footnotes': [{}]},\n     {'year': '2020',\n      'period': 'M02',\n      'periodName': 'February',\n      'value': '3.3',\n      'footnotes': [{}]},\n     {'year': '2020',\n      'period': 'M01',\n      'periodName': 'January',\n      'value': '3.4',\n      'footnotes': [{}]}]},\n   {'seriesID': 'LAUST260000000000003',\n    'data': [{'year': '2020',\n      'period': 'M04',\n      'periodName': 'April',\n      'latest': 'true',\n      'value': '23.8',\n      'footnotes': [{'code': 'P', 'text': 'Preliminary.'}]},\n     {'year': '2020',\n      'period': 'M03',\n      'periodName': 'March',\n      'value': '4.0',\n      'footnotes': [{}]},\n     {'year': '2020',\n      'period': 'M02',\n      'periodName': 'February',\n      'value': '3.6',\n      'footnotes': [{}]},\n     {'year': '2020',\n      'period': 'M01',\n      'periodName': 'January',\n      'value': '4.3',\n      'footnotes': [{}]}]},\n   {'seriesID': 'LAUST270000000000003',\n    'data': [{'year': '2020',\n      'period': 'M04',\n      'periodName': 'April',\n      'latest': 'true',\n      'value': '8.6',\n      'footnotes': [{'code': 'P', 'text': 'Preliminary.'}]},\n     {'year': '2020',\n      'period': 'M03',\n      'periodName': 'March',\n      'value': '3.5',\n      'footnotes': [{}]},\n     {'year': '2020',\n      'period': 'M02',\n      'periodName': 'February',\n      'value': '3.6',\n      'footnotes': [{}]},\n     {'year': '2020',\n      'period': 'M01',\n      'periodName': 'January',\n      'value': '3.7',\n      'footnotes': [{}]}]},\n   {'seriesID': 'LAUST280000000000003',\n    'data': [{'year': '2020',\n      'period': 'M04',\n      'periodName': 'April',\n      'latest': 'true',\n      'value': '15.6',\n      'footnotes': [{'code': 'P', 'text': 'Preliminary.'}]},\n     {'year': '2020',\n      'period': 'M03',\n      'periodName': 'March',\n      'value': '4.8',\n      'footnotes': [{}]},\n     {'year': '2020',\n      'period': 'M02',\n      'periodName': 'February',\n      'value': '5.1',\n      'footnotes': [{}]},\n     {'year': '2020',\n      'period': 'M01',\n      'periodName': 'January',\n      'value': '5.4',\n      'footnotes': [{}]}]}]}}"
     },
     "metadata": {},
     "execution_count": 12
    }
   ],
   "source": []
  },
  {
   "cell_type": "code",
   "execution_count": null,
   "metadata": {},
   "outputs": [],
   "source": []
  }
 ],
 "metadata": {
  "language_info": {
   "codemirror_mode": {
    "name": "ipython",
    "version": 3
   },
   "file_extension": ".py",
   "mimetype": "text/x-python",
   "name": "python",
   "nbconvert_exporter": "python",
   "pygments_lexer": "ipython3",
   "version": "3.7.6-final"
  },
  "orig_nbformat": 2,
  "kernelspec": {
   "name": "python37664bitpythondataconda55388edc13a34f868137f8315f2e1c1f",
   "display_name": "Python 3.7.6 64-bit ('PythonData': conda)"
  }
 },
 "nbformat": 4,
 "nbformat_minor": 2
}