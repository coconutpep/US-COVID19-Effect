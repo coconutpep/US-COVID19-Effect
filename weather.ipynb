{
 "cells": [
  {
   "cell_type": "code",
   "execution_count": 5,
   "metadata": {},
   "outputs": [],
   "source": [
    "#Import Dependencies\n",
    "import pandas as pd \n",
    "import requests\n",
    "import json\n",
    "from config import email, key\n",
    "from time import sleep"
   ]
  },
  {
   "cell_type": "code",
   "execution_count": 6,
   "metadata": {},
   "outputs": [],
   "source": [
    "#Define function for cleaning df\n",
    "def cleanDf(df):\n",
    "    df.drop(['state_code', 'county_code', 'site_number', 'parameter_code', 'poc', 'datum', 'sample_duration', 'event_type', 'validity_indicator', 'arithmetic_mean', 'first_max_value','first_max_hour', 'aqi', 'method_code', 'method', 'local_site_name', 'site_address', 'cbsa_code', 'cbsa', 'date_of_last_change'], axis=1, inplace=True)\n",
    "    return df"
   ]
  },
  {
   "cell_type": "code",
   "execution_count": 7,
   "metadata": {
    "tags": [
     "outputPrepend"
    ]
   },
   "outputs": [
    {
     "output_type": "stream",
     "name": "stdout",
     "text": "24, 'observation_percent': 100.0, 'validity_indicator': 'Y', 'arithmetic_mean': 0.043583, 'first_max_value': 0.044, 'first_max_hour': 0, 'aqi': None, 'method_code': '047', 'method': 'INSTRUMENTAL - ULTRA VIOLET', 'local_site_name': 'Denali NP & PRES - Headquarters', 'site_address': 'DENALI NATIONAL PARK', 'state': 'Alaska', 'county': 'Denali ', 'city': 'Not in a city', 'cbsa_code': None, 'cbsa': None, 'date_of_last_change': '2020-05-31'}, {'state_code': '02', 'county_code': '068', 'site_number': '0003', 'parameter_code': '44201', 'poc': 1, 'latitude': 63.7232, 'longitude': -148.9676, 'datum': 'WGS84', 'parameter': 'Ozone', 'sample_duration': '1 HOUR', 'pollutant_standard': 'Ozone 1-hour 1979', 'date_local': '2020-03-08', 'units_of_measure': 'Parts per million', 'event_type': 'None', 'observation_count': 24, 'observation_percent': 100.0, 'validity_indicator': 'Y', 'arithmetic_mean': 0.040125, 'first_max_value': 0.043, 'first_max_hour': 1, 'aqi': None, 'method_code': '047', 'method': 'INSTRUMENTAL - ULTRA VIOLET', 'local_site_name': 'Denali NP & PRES - Headquarters', 'site_address': 'DENALI NATIONAL PARK', 'state': 'Alaska', 'county': 'Denali ', 'city': 'Not in a city', 'cbsa_code': None, 'cbsa': None, 'date_of_last_change': '2020-05-31'}, {'state_code': '02', 'county_code': '068', 'site_number': '0003', 'parameter_code': '44201', 'poc': 1, 'latitude': 63.7232, 'longitude': -148.9676, 'datum': 'WGS84', 'parameter': 'Ozone', 'sample_duration': '1 HOUR', 'pollutant_standard': 'Ozone 1-hour 1979', 'date_local': '2020-03-09', 'units_of_measure': 'Parts per million', 'event_type': 'None', 'observation_count': 24, 'observation_percent': 100.0, 'validity_indicator': 'Y', 'arithmetic_mean': 0.037125, 'first_max_value': 0.041, 'first_max_hour': 12, 'aqi': None, 'method_code': '047', 'method': 'INSTRUMENTAL - ULTRA VIOLET', 'local_site_name': 'Denali NP & PRES - Headquarters', 'site_address': 'DENALI NATIONAL PARK', 'state': 'Alaska', 'county': 'Denali ', 'city': 'Not in a city', 'cbsa_code': None, 'cbsa': None, 'date_of_last_change': '2020-05-31'}, {'state_code': '02', 'county_code': '068', 'site_number': '0003', 'parameter_code': '44201', 'poc': 1, 'latitude': 63.7232, 'longitude': -148.9676, 'datum': 'WGS84', 'parameter': 'Ozone', 'sample_duration': '1 HOUR', 'pollutant_standard': 'Ozone 1-hour 1979', 'date_local': '2020-03-10', 'units_of_measure': 'Parts per million', 'event_type': 'None', 'observation_count': 23, 'observation_percent': 96.0, 'validity_indicator': 'Y', 'arithmetic_mean': 0.039783, 'first_max_value': 0.041, 'first_max_hour': 0, 'aqi': None, 'method_code': '047', 'method': 'INSTRUMENTAL - ULTRA VIOLET', 'local_site_name': 'Denali NP & PRES - Headquarters', 'site_address': 'DENALI NATIONAL PARK', 'state': 'Alaska', 'county': 'Denali ', 'city': 'Not in a city', 'cbsa_code': None, 'cbsa': None, 'date_of_last_change': '2020-05-31'}, {'state_code': '02', 'county_code': '068', 'site_number': '0003', 'parameter_code': '44201', 'poc': 1, 'latitude': 63.7232, 'longitude': -148.9676, 'datum': 'WGS84', 'parameter': 'Ozone', 'sample_duration': '1 HOUR', 'pollutant_standard': 'Ozone 1-hour 1979', 'date_local': '2020-03-11', 'units_of_measure': 'Parts per million', 'event_type': 'None', 'observation_count': 24, 'observation_percent': 100.0, 'validity_indicator': 'Y', 'arithmetic_mean': 0.040292, 'first_max_value': 0.043, 'first_max_hour': 15, 'aqi': None, 'method_code': '047', 'method': 'INSTRUMENTAL - ULTRA VIOLET', 'local_site_name': 'Denali NP & PRES - Headquarters', 'site_address': 'DENALI NATIONAL PARK', 'state': 'Alaska', 'county': 'Denali ', 'city': 'Not in a city', 'cbsa_code': None, 'cbsa': None, 'date_of_last_change': '2020-05-31'}, {'state_code': '02', 'county_code': '068', 'site_number': '0003', 'parameter_code': '44201', 'poc': 1, 'latitude': 63.7232, 'longitude': -148.9676, 'datum': 'WGS84', 'parameter': 'Ozone', 'sample_duration': '1 HOUR', 'pollutant_standard': 'Ozone 1-hour 1979', 'date_local': '2020-03-12', 'units_of_measure': 'Parts per million', 'event_type': 'None', 'observation_count': 24, 'observation_percent': 100.0, 'validity_indicator': 'Y', 'arithmetic_mean': 0.041792, 'first_max_value': 0.045, 'first_max_hour': 16, 'aqi': None, 'method_code': '047', 'method': 'INSTRUMENTAL - ULTRA VIOLET', 'local_site_name': 'Denali NP & PRES - Headquarters', 'site_address': 'DENALI NATIONAL PARK', 'state': 'Alaska', 'county': 'Denali ', 'city': 'Not in a city', 'cbsa_code': None, 'cbsa': None, 'date_of_last_change': '2020-05-31'}, {'state_code': '02', 'county_code': '068', 'site_number': '0003', 'parameter_code': '44201', 'poc': 1, 'latitude': 63.7232, 'longitude': -148.9676, 'datum': 'WGS84', 'parameter': 'Ozone', 'sample_duration': '1 HOUR', 'pollutant_standard': 'Ozone 1-hour 1979', 'date_local': '2020-03-13', 'units_of_measure': 'Parts per million', 'event_type': 'None', 'observation_count': 24, 'observation_percent': 100.0, 'validity_indicator': 'Y', 'arithmetic_mean': 0.044667, 'first_max_value': 0.046, 'first_max_hour': 14, 'aqi': None, 'method_code': '047', 'method': 'INSTRUMENTAL - ULTRA VIOLET', 'local_site_name': 'Denali NP & PRES - Headquarters', 'site_address': 'DENALI NATIONAL PARK', 'state': 'Alaska', 'county': 'Denali ', 'city': 'Not in a city', 'cbsa_code': None, 'cbsa': None, 'date_of_last_change': '2020-05-31'}, {'state_code': '02', 'county_code': '068', 'site_number': '0003', 'parameter_code': '44201', 'poc': 1, 'latitude': 63.7232, 'longitude': -148.9676, 'datum': 'WGS84', 'parameter': 'Ozone', 'sample_duration': '1 HOUR', 'pollutant_standard': 'Ozone 1-hour 1979', 'date_local': '2020-03-14', 'units_of_measure': 'Parts per million', 'event_type': 'None', 'observation_count': 24, 'observation_percent': 100.0, 'validity_indicator': 'Y', 'arithmetic_mean': 0.045, 'first_max_value': 0.047, 'first_max_hour': 15, 'aqi': None, 'method_code': '047', 'method': 'INSTRUMENTAL - ULTRA VIOLET', 'local_site_name': 'Denali NP & PRES - Headquarters', 'site_address': 'DENALI NATIONAL PARK', 'state': 'Alaska', 'county': 'Denali ', 'city': 'Not in a city', 'cbsa_code': None, 'cbsa': None, 'date_of_last_change': '2020-05-31'}, {'state_code': '02', 'county_code': '068', 'site_number': '0003', 'parameter_code': '44201', 'poc': 1, 'latitude': 63.7232, 'longitude': -148.9676, 'datum': 'WGS84', 'parameter': 'Ozone', 'sample_duration': '1 HOUR', 'pollutant_standard': 'Ozone 1-hour 1979', 'date_local': '2020-03-15', 'units_of_measure': 'Parts per million', 'event_type': 'None', 'observation_count': 24, 'observation_percent': 100.0, 'validity_indicator': 'Y', 'arithmetic_mean': 0.046958, 'first_max_value': 0.05, 'first_max_hour': 14, 'aqi': None, 'method_code': '047', 'method': 'INSTRUMENTAL - ULTRA VIOLET', 'local_site_name': 'Denali NP & PRES - Headquarters', 'site_address': 'DENALI NATIONAL PARK', 'state': 'Alaska', 'county': 'Denali ', 'city': 'Not in a city', 'cbsa_code': None, 'cbsa': None, 'date_of_last_change': '2020-05-31'}, {'state_code': '02', 'county_code': '068', 'site_number': '0003', 'parameter_code': '44201', 'poc': 1, 'latitude': 63.7232, 'longitude': -148.9676, 'datum': 'WGS84', 'parameter': 'Ozone', 'sample_duration': '1 HOUR', 'pollutant_standard': 'Ozone 1-hour 1979', 'date_local': '2020-03-16', 'units_of_measure': 'Parts per million', 'event_type': 'None', 'observation_count': 24, 'observation_percent': 100.0, 'validity_indicator': 'Y', 'arithmetic_mean': 0.046667, 'first_max_value': 0.048, 'first_max_hour': 0, 'aqi': None, 'method_code': '047', 'method': 'INSTRUMENTAL - ULTRA VIOLET', 'local_site_name': 'Denali NP & PRES - Headquarters', 'site_address': 'DENALI NATIONAL PARK', 'state': 'Alaska', 'county': 'Denali ', 'city': 'Not in a city', 'cbsa_code': None, 'cbsa': None, 'date_of_last_change': '2020-05-31'}, {'state_code': '02', 'county_code': '068', 'site_number': '0003', 'parameter_code': '44201', 'poc': 1, 'latitude': 63.7232, 'longitude': -148.9676, 'datum': 'WGS84', 'parameter': 'Ozone', 'sample_duration': '1 HOUR', 'pollutant_standard': 'Ozone 1-hour 1979', 'date_local': '2020-03-17', 'units_of_measure': 'Parts per million', 'event_type': 'None', 'observation_count': 24, 'observation_percent': 100.0, 'validity_indicator': 'Y', 'arithmetic_mean': 0.050708, 'first_max_value': 0.052, 'first_max_hour': 9, 'aqi': None, 'method_code': '047', 'method': 'INSTRUMENTAL - ULTRA VIOLET', 'local_site_name': 'Denali NP & PRES - Headquarters', 'site_address': 'DENALI NATIONAL PARK', 'state': 'Alaska', 'county': 'Denali ', 'city': 'Not in a city', 'cbsa_code': None, 'cbsa': None, 'date_of_last_change': '2020-05-31'}, {'state_code': '02', 'county_code': '068', 'site_number': '0003', 'parameter_code': '44201', 'poc': 1, 'latitude': 63.7232, 'longitude': -148.9676, 'datum': 'WGS84', 'parameter': 'Ozone', 'sample_duration': '1 HOUR', 'pollutant_standard': 'Ozone 1-hour 1979', 'date_local': '2020-03-18', 'units_of_measure': 'Parts per million', 'event_type': 'None', 'observation_count': 24, 'observation_percent': 100.0, 'validity_indicator': 'Y', 'arithmetic_mean': 0.042375, 'first_max_value': 0.048, 'first_max_hour': 0, 'aqi': None, 'method_code': '047', 'method': 'INSTRUMENTAL - ULTRA VIOLET', 'local_site_name': 'Denali NP & PRES - Headquarters', 'site_address': 'DENALI NATIONAL PARK', 'state': 'Alaska', 'county': 'Denali ', 'city': 'Not in a city', 'cbsa_code': None, 'cbsa': None, 'date_of_last_change': '2020-05-31'}, {'state_code': '02', 'county_code': '068', 'site_number': '0003', 'parameter_code': '44201', 'poc': 1, 'latitude': 63.7232, 'longitude': -148.9676, 'datum': 'WGS84', 'parameter': 'Ozone', 'sample_duration': '1 HOUR', 'pollutant_standard': 'Ozone 1-hour 1979', 'date_local': '2020-03-19', 'units_of_measure': 'Parts per million', 'event_type': 'None', 'observation_count': 24, 'observation_percent': 100.0, 'validity_indicator': 'Y', 'arithmetic_mean': 0.046333, 'first_max_value': 0.049, 'first_max_hour': 14, 'aqi': None, 'method_code': '047', 'method': 'INSTRUMENTAL - ULTRA VIOLET', 'local_site_name': 'Denali NP & PRES - Headquarters', 'site_address': 'DENALI NATIONAL PARK', 'state': 'Alaska', 'county': 'Denali ', 'city': 'Not in a city', 'cbsa_code': None, 'cbsa': None, 'date_of_last_change': '2020-05-31'}, {'state_code': '02', 'county_code': '068', 'site_number': '0003', 'parameter_code': '44201', 'poc': 1, 'latitude': 63.7232, 'longitude': -148.9676, 'datum': 'WGS84', 'parameter': 'Ozone', 'sample_duration': '1 HOUR', 'pollutant_standard': 'Ozone 1-hour 1979', 'date_local': '2020-03-20', 'units_of_measure': 'Parts per million', 'event_type': 'None', 'observation_count': 24, 'observation_percent': 100.0, 'validity_indicator': 'Y', 'arithmetic_mean': 0.042667, 'first_max_value': 0.044, 'first_max_hour': 4, 'aqi': None, 'method_code': '047', 'method': 'INSTRUMENTAL - ULTRA VIOLET', 'local_site_name': 'Denali NP & PRES - Headquarters', 'site_address': 'DENALI NATIONAL PARK', 'state': 'Alaska', 'county': 'Denali ', 'city': 'Not in a city', 'cbsa_code': None, 'cbsa': None, 'date_of_last_change': '2020-05-31'}, {'state_code': '02', 'county_code': '068', 'site_number': '0003', 'parameter_code': '44201', 'poc': 1, 'latitude': 63.7232, 'longitude': -148.9676, 'datum': 'WGS84', 'parameter': 'Ozone', 'sample_duration': '1 HOUR', 'pollutant_standard': 'Ozone 1-hour 1979', 'date_local': '2020-03-21', 'units_of_measure': 'Parts per million', 'event_type': 'None', 'observation_count': 24, 'observation_percent': 100.0, 'validity_indicator': 'Y', 'arithmetic_mean': 0.04325, 'first_max_value': 0.045, 'first_max_hour': 6, 'aqi': None, 'method_code': '047', 'method': 'INSTRUMENTAL - ULTRA VIOLET', 'local_site_name': 'Denali NP & PRES - Headquarters', 'site_address': 'DENALI NATIONAL PARK', 'state': 'Alaska', 'county': 'Denali ', 'city': 'Not in a city', 'cbsa_code': None, 'cbsa': None, 'date_of_last_change': '2020-05-31'}, {'state_code': '02', 'county_code': '068', 'site_number': '0003', 'parameter_code': '44201', 'poc': 1, 'latitude': 63.7232, 'longitude': -148.9676, 'datum': 'WGS84', 'parameter': 'Ozone', 'sample_duration': '1 HOUR', 'pollutant_standard': 'Ozone 1-hour 1979', 'date_local': '2020-03-22', 'units_of_measure': 'Parts per million', 'event_type': 'None', 'observation_count': 24, 'observation_percent': 100.0, 'validity_indicator': 'Y', 'arithmetic_mean': 0.040583, 'first_max_value': 0.042, 'first_max_hour': 0, 'aqi': None, 'method_code': '047', 'method': 'INSTRUMENTAL - ULTRA VIOLET', 'local_site_name': 'Denali NP & PRES - Headquarters', 'site_address': 'DENALI NATIONAL PARK', 'state': 'Alaska', 'county': 'Denali ', 'city': 'Not in a city', 'cbsa_code': None, 'cbsa': None, 'date_of_last_change': '2020-05-31'}, {'state_code': '02', 'county_code': '068', 'site_number': '0003', 'parameter_code': '44201', 'poc': 1, 'latitude': 63.7232, 'longitude': -148.9676, 'datum': 'WGS84', 'parameter': 'Ozone', 'sample_duration': '1 HOUR', 'pollutant_standard': 'Ozone 1-hour 1979', 'date_local': '2020-03-23', 'units_of_measure': 'Parts per million', 'event_type': 'None', 'observation_count': 24, 'observation_percent': 100.0, 'validity_indicator': 'Y', 'arithmetic_mean': 0.041417, 'first_max_value': 0.05, 'first_max_hour': 18, 'aqi': None, 'method_code': '047', 'method': 'INSTRUMENTAL - ULTRA VIOLET', 'local_site_name': 'Denali NP & PRES - Headquarters', 'site_address': 'DENALI NATIONAL PARK', 'state': 'Alaska', 'county': 'Denali ', 'city': 'Not in a city', 'cbsa_code': None, 'cbsa': None, 'date_of_last_change': '2020-05-31'}, {'state_code': '02', 'county_code': '068', 'site_number': '0003', 'parameter_code': '44201', 'poc': 1, 'latitude': 63.7232, 'longitude': -148.9676, 'datum': 'WGS84', 'parameter': 'Ozone', 'sample_duration': '1 HOUR', 'pollutant_standard': 'Ozone 1-hour 1979', 'date_local': '2020-03-24', 'units_of_measure': 'Parts per million', 'event_type': 'None', 'observation_count': 24, 'observation_percent': 100.0, 'validity_indicator': 'Y', 'arithmetic_mean': 0.045542, 'first_max_value': 0.05, 'first_max_hour': 20, 'aqi': None, 'method_code': '047', 'method': 'INSTRUMENTAL - ULTRA VIOLET', 'local_site_name': 'Denali NP & PRES - Headquarters', 'site_address': 'DENALI NATIONAL PARK', 'state': 'Alaska', 'county': 'Denali ', 'city': 'Not in a city', 'cbsa_code': None, 'cbsa': None, 'date_of_last_change': '2020-05-31'}, {'state_code': '02', 'county_code': '068', 'site_number': '0003', 'parameter_code': '44201', 'poc': 1, 'latitude': 63.7232, 'longitude': -148.9676, 'datum': 'WGS84', 'parameter': 'Ozone', 'sample_duration': '1 HOUR', 'pollutant_standard': 'Ozone 1-hour 1979', 'date_local': '2020-03-25', 'units_of_measure': 'Parts per million', 'event_type': 'None', 'observation_count': 24, 'observation_percent': 100.0, 'validity_indicator': 'Y', 'arithmetic_mean': 0.044417, 'first_max_value': 0.05, 'first_max_hour': 0, 'aqi': None, 'method_code': '047', 'method': 'INSTRUMENTAL - ULTRA VIOLET', 'local_site_name': 'Denali NP & PRES - Headquarters', 'site_address': 'DENALI NATIONAL PARK', 'state': 'Alaska', 'county': 'Denali ', 'city': 'Not in a city', 'cbsa_code': None, 'cbsa': None, 'date_of_last_change': '2020-05-31'}, {'state_code': '02', 'county_code': '068', 'site_number': '0003', 'parameter_code': '44201', 'poc': 1, 'latitude': 63.7232, 'longitude': -148.9676, 'datum': 'WGS84', 'parameter': 'Ozone', 'sample_duration': '1 HOUR', 'pollutant_standard': 'Ozone 1-hour 1979', 'date_local': '2020-03-26', 'units_of_measure': 'Parts per million', 'event_type': 'None', 'observation_count': 24, 'observation_percent': 100.0, 'validity_indicator': 'Y', 'arithmetic_mean': 0.04325, 'first_max_value': 0.047, 'first_max_hour': 5, 'aqi': None, 'method_code': '047', 'method': 'INSTRUMENTAL - ULTRA VIOLET', 'local_site_name': 'Denali NP & PRES - Headquarters', 'site_address': 'DENALI NATIONAL PARK', 'state': 'Alaska', 'county': 'Denali ', 'city': 'Not in a city', 'cbsa_code': None, 'cbsa': None, 'date_of_last_change': '2020-05-31'}, {'state_code': '02', 'county_code': '068', 'site_number': '0003', 'parameter_code': '44201', 'poc': 1, 'latitude': 63.7232, 'longitude': -148.9676, 'datum': 'WGS84', 'parameter': 'Ozone', 'sample_duration': '1 HOUR', 'pollutant_standard': 'Ozone 1-hour 1979', 'date_local': '2020-03-27', 'units_of_measure': 'Parts per million', 'event_type': 'None', 'observation_count': 24, 'observation_percent': 100.0, 'validity_indicator': 'Y', 'arithmetic_mean': 0.039875, 'first_max_value': 0.044, 'first_max_hour': 16, 'aqi': None, 'method_code': '047', 'method': 'INSTRUMENTAL - ULTRA VIOLET', 'local_site_name': 'Denali NP & PRES - Headquarters', 'site_address': 'DENALI NATIONAL PARK', 'state': 'Alaska', 'county': 'Denali ', 'city': 'Not in a city', 'cbsa_code': None, 'cbsa': None, 'date_of_last_change': '2020-05-31'}, {'state_code': '02', 'county_code': '068', 'site_number': '0003', 'parameter_code': '44201', 'poc': 1, 'latitude': 63.7232, 'longitude': -148.9676, 'datum': 'WGS84', 'parameter': 'Ozone', 'sample_duration': '1 HOUR', 'pollutant_standard': 'Ozone 1-hour 1979', 'date_local': '2020-03-28', 'units_of_measure': 'Parts per million', 'event_type': 'None', 'observation_count': 24, 'observation_percent': 100.0, 'validity_indicator': 'Y', 'arithmetic_mean': 0.036958, 'first_max_value': 0.04, 'first_max_hour': 4, 'aqi': None, 'method_code': '047', 'method': 'INSTRUMENTAL - ULTRA VIOLET', 'local_site_name': 'Denali NP & PRES - Headquarters', 'site_address': 'DENALI NATIONAL PARK', 'state': 'Alaska', 'county': 'Denali ', 'city': 'Not in a city', 'cbsa_code': None, 'cbsa': None, 'date_of_last_change': '2020-05-31'}, {'state_code': '02', 'county_code': '068', 'site_number': '0003', 'parameter_code': '44201', 'poc': 1, 'latitude': 63.7232, 'longitude': -148.9676, 'datum': 'WGS84', 'parameter': 'Ozone', 'sample_duration': '1 HOUR', 'pollutant_standard': 'Ozone 1-hour 1979', 'date_local': '2020-03-29', 'units_of_measure': 'Parts per million', 'event_type': 'None', 'observation_count': 24, 'observation_percent': 100.0, 'validity_indicator': 'Y', 'arithmetic_mean': 0.04, 'first_max_value': 0.041, 'first_max_hour': 18, 'aqi': None, 'method_code': '047', 'method': 'INSTRUMENTAL - ULTRA VIOLET', 'local_site_name': 'Denali NP & PRES - Headquarters', 'site_address': 'DENALI NATIONAL PARK', 'state': 'Alaska', 'county': 'Denali ', 'city': 'Not in a city', 'cbsa_code': None, 'cbsa': None, 'date_of_last_change': '2020-05-31'}, {'state_code': '02', 'county_code': '068', 'site_number': '0003', 'parameter_code': '44201', 'poc': 1, 'latitude': 63.7232, 'longitude': -148.9676, 'datum': 'WGS84', 'parameter': 'Ozone', 'sample_duration': '1 HOUR', 'pollutant_standard': 'Ozone 1-hour 1979', 'date_local': '2020-03-30', 'units_of_measure': 'Parts per million', 'event_type': 'None', 'observation_count': 24, 'observation_percent': 100.0, 'validity_indicator': 'Y', 'arithmetic_mean': 0.042917, 'first_max_value': 0.046, 'first_max_hour': 17, 'aqi': None, 'method_code': '047', 'method': 'INSTRUMENTAL - ULTRA VIOLET', 'local_site_name': 'Denali NP & PRES - Headquarters', 'site_address': 'DENALI NATIONAL PARK', 'state': 'Alaska', 'county': 'Denali ', 'city': 'Not in a city', 'cbsa_code': None, 'cbsa': None, 'date_of_last_change': '2020-05-31'}, {'state_code': '02', 'county_code': '068', 'site_number': '0003', 'parameter_code': '44201', 'poc': 1, 'latitude': 63.7232, 'longitude': -148.9676, 'datum': 'WGS84', 'parameter': 'Ozone', 'sample_duration': '1 HOUR', 'pollutant_standard': 'Ozone 1-hour 1979', 'date_local': '2020-03-31', 'units_of_measure': 'Parts per million', 'event_type': 'None', 'observation_count': 24, 'observation_percent': 100.0, 'validity_indicator': 'Y', 'arithmetic_mean': 0.044917, 'first_max_value': 0.046, 'first_max_hour': 0, 'aqi': None, 'method_code': '047', 'method': 'INSTRUMENTAL - ULTRA VIOLET', 'local_site_name': 'Denali NP & PRES - Headquarters', 'site_address': 'DENALI NATIONAL PARK', 'state': 'Alaska', 'county': 'Denali ', 'city': 'Not in a city', 'cbsa_code': None, 'cbsa': None, 'date_of_last_change': '2020-05-31'}]\n"
    }
   ],
   "source": [
    "#Set array of State FIPS to loop through\n",
    "FIPS = [\"02\", \"01\", \"05\", \"60\", \"04\", \"06\", \"08\", \"09\", \"11\", \"10\", \"12\", \"13\", \"66\", \"15\", \"19\", \"16\", \"17\", \"18\", \"20\", \"21\", \"22\", \"25\", \"24\", \"23\", \"26\", \"27\", \"29\", \"28\", \"30\", \"37\", \"38\", \"31\", \"33\", \"34\", \"35\", \"32\", \"36\", \"39\", \"40\", \"41\", \"42\", \"72\", \"44\", \"45\", \"46\", \"47\", \"48\", \"49\", \"51\", \"78\", \"50\", \"53\", \"55\", \"54\", \"56\"]\n",
    "\n",
    "#Array to append API data to\n",
    "air = []\n",
    "#For loop to create and make API calls for data\n",
    "for state in FIPS:\n",
    "    #API call\n",
    "    request = requests.get(f\"https://aqs.epa.gov/data/api/dailyData/byState?email={email}&key={key}&param=42101,44201,42602,42401,12128&bdate=20200122&edate=20200525&state={state}\").json()\n",
    "    #Grab just the data\n",
    "    data = request[\"Data\"]\n",
    "    #append data for state\n",
    "    air.append(data)\n",
    "    #Have script wait to avoid exceeding call limit\n",
    "    sleep(6)\n",
    "\n",
    "#Check there is data in air\n",
    "print(len(air))\n",
    "print(air[0])"
   ]
  },
  {
   "cell_type": "code",
   "execution_count": 8,
   "metadata": {},
   "outputs": [
    {
     "output_type": "stream",
     "name": "stdout",
     "text": "55\n"
    },
    {
     "output_type": "execute_result",
     "data": {
      "text/plain": "  state_code county_code site_number parameter_code  poc  latitude  longitude  \\\n0         04         003        8001          44201    1  32.00941 -109.38906   \n1         04         003        8001          44201    1  32.00941 -109.38906   \n2         04         003        8001          44201    1  32.00941 -109.38906   \n3         04         003        8001          44201    1  32.00941 -109.38906   \n4         04         003        8001          44201    1  32.00941 -109.38906   \n\n   datum parameter          sample_duration  ... method_code  \\\n0  WGS84     Ozone                   1 HOUR  ...         047   \n1  WGS84     Ozone  8-HR RUN AVG BEGIN HOUR  ...         047   \n2  WGS84     Ozone  8-HR RUN AVG BEGIN HOUR  ...         047   \n3  WGS84     Ozone  8-HR RUN AVG BEGIN HOUR  ...         047   \n4  WGS84     Ozone                   1 HOUR  ...         047   \n\n                        method                   local_site_name  \\\n0  INSTRUMENTAL - ULTRA VIOLET  Chiricahua NM - Entrance Station   \n1  INSTRUMENTAL - ULTRA VIOLET  Chiricahua NM - Entrance Station   \n2  INSTRUMENTAL - ULTRA VIOLET  Chiricahua NM - Entrance Station   \n3  INSTRUMENTAL - ULTRA VIOLET  Chiricahua NM - Entrance Station   \n4  INSTRUMENTAL - ULTRA VIOLET  Chiricahua NM - Entrance Station   \n\n                  site_address    state   county           city  cbsa_code  \\\n0  CHIRICAHUA NATIONAL MOUMENT  Arizona  Cochise  Not in a city      43420   \n1  CHIRICAHUA NATIONAL MOUMENT  Arizona  Cochise  Not in a city      43420   \n2  CHIRICAHUA NATIONAL MOUMENT  Arizona  Cochise  Not in a city      43420   \n3  CHIRICAHUA NATIONAL MOUMENT  Arizona  Cochise  Not in a city      43420   \n4  CHIRICAHUA NATIONAL MOUMENT  Arizona  Cochise  Not in a city      43420   \n\n                       cbsa  date_of_last_change  \n0  Sierra Vista-Douglas, AZ           2020-05-31  \n1  Sierra Vista-Douglas, AZ           2020-05-31  \n2  Sierra Vista-Douglas, AZ           2020-05-31  \n3  Sierra Vista-Douglas, AZ           2020-05-31  \n4  Sierra Vista-Douglas, AZ           2020-05-31  \n\n[5 rows x 31 columns]",
      "text/html": "<div>\n<style scoped>\n    .dataframe tbody tr th:only-of-type {\n        vertical-align: middle;\n    }\n\n    .dataframe tbody tr th {\n        vertical-align: top;\n    }\n\n    .dataframe thead th {\n        text-align: right;\n    }\n</style>\n<table border=\"1\" class=\"dataframe\">\n  <thead>\n    <tr style=\"text-align: right;\">\n      <th></th>\n      <th>state_code</th>\n      <th>county_code</th>\n      <th>site_number</th>\n      <th>parameter_code</th>\n      <th>poc</th>\n      <th>latitude</th>\n      <th>longitude</th>\n      <th>datum</th>\n      <th>parameter</th>\n      <th>sample_duration</th>\n      <th>...</th>\n      <th>method_code</th>\n      <th>method</th>\n      <th>local_site_name</th>\n      <th>site_address</th>\n      <th>state</th>\n      <th>county</th>\n      <th>city</th>\n      <th>cbsa_code</th>\n      <th>cbsa</th>\n      <th>date_of_last_change</th>\n    </tr>\n  </thead>\n  <tbody>\n    <tr>\n      <td>0</td>\n      <td>04</td>\n      <td>003</td>\n      <td>8001</td>\n      <td>44201</td>\n      <td>1</td>\n      <td>32.00941</td>\n      <td>-109.38906</td>\n      <td>WGS84</td>\n      <td>Ozone</td>\n      <td>1 HOUR</td>\n      <td>...</td>\n      <td>047</td>\n      <td>INSTRUMENTAL - ULTRA VIOLET</td>\n      <td>Chiricahua NM - Entrance Station</td>\n      <td>CHIRICAHUA NATIONAL MOUMENT</td>\n      <td>Arizona</td>\n      <td>Cochise</td>\n      <td>Not in a city</td>\n      <td>43420</td>\n      <td>Sierra Vista-Douglas, AZ</td>\n      <td>2020-05-31</td>\n    </tr>\n    <tr>\n      <td>1</td>\n      <td>04</td>\n      <td>003</td>\n      <td>8001</td>\n      <td>44201</td>\n      <td>1</td>\n      <td>32.00941</td>\n      <td>-109.38906</td>\n      <td>WGS84</td>\n      <td>Ozone</td>\n      <td>8-HR RUN AVG BEGIN HOUR</td>\n      <td>...</td>\n      <td>047</td>\n      <td>INSTRUMENTAL - ULTRA VIOLET</td>\n      <td>Chiricahua NM - Entrance Station</td>\n      <td>CHIRICAHUA NATIONAL MOUMENT</td>\n      <td>Arizona</td>\n      <td>Cochise</td>\n      <td>Not in a city</td>\n      <td>43420</td>\n      <td>Sierra Vista-Douglas, AZ</td>\n      <td>2020-05-31</td>\n    </tr>\n    <tr>\n      <td>2</td>\n      <td>04</td>\n      <td>003</td>\n      <td>8001</td>\n      <td>44201</td>\n      <td>1</td>\n      <td>32.00941</td>\n      <td>-109.38906</td>\n      <td>WGS84</td>\n      <td>Ozone</td>\n      <td>8-HR RUN AVG BEGIN HOUR</td>\n      <td>...</td>\n      <td>047</td>\n      <td>INSTRUMENTAL - ULTRA VIOLET</td>\n      <td>Chiricahua NM - Entrance Station</td>\n      <td>CHIRICAHUA NATIONAL MOUMENT</td>\n      <td>Arizona</td>\n      <td>Cochise</td>\n      <td>Not in a city</td>\n      <td>43420</td>\n      <td>Sierra Vista-Douglas, AZ</td>\n      <td>2020-05-31</td>\n    </tr>\n    <tr>\n      <td>3</td>\n      <td>04</td>\n      <td>003</td>\n      <td>8001</td>\n      <td>44201</td>\n      <td>1</td>\n      <td>32.00941</td>\n      <td>-109.38906</td>\n      <td>WGS84</td>\n      <td>Ozone</td>\n      <td>8-HR RUN AVG BEGIN HOUR</td>\n      <td>...</td>\n      <td>047</td>\n      <td>INSTRUMENTAL - ULTRA VIOLET</td>\n      <td>Chiricahua NM - Entrance Station</td>\n      <td>CHIRICAHUA NATIONAL MOUMENT</td>\n      <td>Arizona</td>\n      <td>Cochise</td>\n      <td>Not in a city</td>\n      <td>43420</td>\n      <td>Sierra Vista-Douglas, AZ</td>\n      <td>2020-05-31</td>\n    </tr>\n    <tr>\n      <td>4</td>\n      <td>04</td>\n      <td>003</td>\n      <td>8001</td>\n      <td>44201</td>\n      <td>1</td>\n      <td>32.00941</td>\n      <td>-109.38906</td>\n      <td>WGS84</td>\n      <td>Ozone</td>\n      <td>1 HOUR</td>\n      <td>...</td>\n      <td>047</td>\n      <td>INSTRUMENTAL - ULTRA VIOLET</td>\n      <td>Chiricahua NM - Entrance Station</td>\n      <td>CHIRICAHUA NATIONAL MOUMENT</td>\n      <td>Arizona</td>\n      <td>Cochise</td>\n      <td>Not in a city</td>\n      <td>43420</td>\n      <td>Sierra Vista-Douglas, AZ</td>\n      <td>2020-05-31</td>\n    </tr>\n  </tbody>\n</table>\n<p>5 rows × 31 columns</p>\n</div>"
     },
     "metadata": {},
     "execution_count": 8
    }
   ],
   "source": [
    "#Array to hold dataframes\n",
    "dfs = []\n",
    "\n",
    "#Iterate through each state's air data and create a cleaned df\n",
    "for i in range(0,55):\n",
    "    #Create dataframe out of the state's data\n",
    "    df = pd.DataFrame(air[i])\n",
    "    #Append into df array\n",
    "    dfs.append(df)\n",
    "\n",
    "#Check for data\n",
    "print(len(dfs))\n",
    "dfs[4].head()"
   ]
  },
  {
   "cell_type": "code",
   "execution_count": 9,
   "metadata": {},
   "outputs": [
    {
     "output_type": "execute_result",
     "data": {
      "text/plain": "  state_code county_code site_number parameter_code  poc  latitude  longitude  \\\n0         02         068        0003          44201    1   63.7232  -148.9676   \n1         02         068        0003          44201    1   63.7232  -148.9676   \n2         02         068        0003          44201    1   63.7232  -148.9676   \n3         02         068        0003          44201    1   63.7232  -148.9676   \n4         02         068        0003          44201    1   63.7232  -148.9676   \n\n   datum parameter          sample_duration  ... method_code  \\\n0  WGS84     Ozone  8-HR RUN AVG BEGIN HOUR  ...         047   \n1  WGS84     Ozone  8-HR RUN AVG BEGIN HOUR  ...         047   \n2  WGS84     Ozone  8-HR RUN AVG BEGIN HOUR  ...         047   \n3  WGS84     Ozone  8-HR RUN AVG BEGIN HOUR  ...         047   \n4  WGS84     Ozone  8-HR RUN AVG BEGIN HOUR  ...         047   \n\n                        method                  local_site_name  \\\n0  INSTRUMENTAL - ULTRA VIOLET  Denali NP & PRES - Headquarters   \n1  INSTRUMENTAL - ULTRA VIOLET  Denali NP & PRES - Headquarters   \n2  INSTRUMENTAL - ULTRA VIOLET  Denali NP & PRES - Headquarters   \n3  INSTRUMENTAL - ULTRA VIOLET  Denali NP & PRES - Headquarters   \n4  INSTRUMENTAL - ULTRA VIOLET  Denali NP & PRES - Headquarters   \n\n           site_address   state   county           city  cbsa_code  cbsa  \\\n0  DENALI NATIONAL PARK  Alaska  Denali   Not in a city       None  None   \n1  DENALI NATIONAL PARK  Alaska  Denali   Not in a city       None  None   \n2  DENALI NATIONAL PARK  Alaska  Denali   Not in a city       None  None   \n3  DENALI NATIONAL PARK  Alaska  Denali   Not in a city       None  None   \n4  DENALI NATIONAL PARK  Alaska  Denali   Not in a city       None  None   \n\n   date_of_last_change  \n0           2020-05-31  \n1           2020-05-31  \n2           2020-05-31  \n3           2020-05-31  \n4           2020-05-31  \n\n[5 rows x 31 columns]",
      "text/html": "<div>\n<style scoped>\n    .dataframe tbody tr th:only-of-type {\n        vertical-align: middle;\n    }\n\n    .dataframe tbody tr th {\n        vertical-align: top;\n    }\n\n    .dataframe thead th {\n        text-align: right;\n    }\n</style>\n<table border=\"1\" class=\"dataframe\">\n  <thead>\n    <tr style=\"text-align: right;\">\n      <th></th>\n      <th>state_code</th>\n      <th>county_code</th>\n      <th>site_number</th>\n      <th>parameter_code</th>\n      <th>poc</th>\n      <th>latitude</th>\n      <th>longitude</th>\n      <th>datum</th>\n      <th>parameter</th>\n      <th>sample_duration</th>\n      <th>...</th>\n      <th>method_code</th>\n      <th>method</th>\n      <th>local_site_name</th>\n      <th>site_address</th>\n      <th>state</th>\n      <th>county</th>\n      <th>city</th>\n      <th>cbsa_code</th>\n      <th>cbsa</th>\n      <th>date_of_last_change</th>\n    </tr>\n  </thead>\n  <tbody>\n    <tr>\n      <td>0</td>\n      <td>02</td>\n      <td>068</td>\n      <td>0003</td>\n      <td>44201</td>\n      <td>1</td>\n      <td>63.7232</td>\n      <td>-148.9676</td>\n      <td>WGS84</td>\n      <td>Ozone</td>\n      <td>8-HR RUN AVG BEGIN HOUR</td>\n      <td>...</td>\n      <td>047</td>\n      <td>INSTRUMENTAL - ULTRA VIOLET</td>\n      <td>Denali NP &amp; PRES - Headquarters</td>\n      <td>DENALI NATIONAL PARK</td>\n      <td>Alaska</td>\n      <td>Denali</td>\n      <td>Not in a city</td>\n      <td>None</td>\n      <td>None</td>\n      <td>2020-05-31</td>\n    </tr>\n    <tr>\n      <td>1</td>\n      <td>02</td>\n      <td>068</td>\n      <td>0003</td>\n      <td>44201</td>\n      <td>1</td>\n      <td>63.7232</td>\n      <td>-148.9676</td>\n      <td>WGS84</td>\n      <td>Ozone</td>\n      <td>8-HR RUN AVG BEGIN HOUR</td>\n      <td>...</td>\n      <td>047</td>\n      <td>INSTRUMENTAL - ULTRA VIOLET</td>\n      <td>Denali NP &amp; PRES - Headquarters</td>\n      <td>DENALI NATIONAL PARK</td>\n      <td>Alaska</td>\n      <td>Denali</td>\n      <td>Not in a city</td>\n      <td>None</td>\n      <td>None</td>\n      <td>2020-05-31</td>\n    </tr>\n    <tr>\n      <td>2</td>\n      <td>02</td>\n      <td>068</td>\n      <td>0003</td>\n      <td>44201</td>\n      <td>1</td>\n      <td>63.7232</td>\n      <td>-148.9676</td>\n      <td>WGS84</td>\n      <td>Ozone</td>\n      <td>8-HR RUN AVG BEGIN HOUR</td>\n      <td>...</td>\n      <td>047</td>\n      <td>INSTRUMENTAL - ULTRA VIOLET</td>\n      <td>Denali NP &amp; PRES - Headquarters</td>\n      <td>DENALI NATIONAL PARK</td>\n      <td>Alaska</td>\n      <td>Denali</td>\n      <td>Not in a city</td>\n      <td>None</td>\n      <td>None</td>\n      <td>2020-05-31</td>\n    </tr>\n    <tr>\n      <td>3</td>\n      <td>02</td>\n      <td>068</td>\n      <td>0003</td>\n      <td>44201</td>\n      <td>1</td>\n      <td>63.7232</td>\n      <td>-148.9676</td>\n      <td>WGS84</td>\n      <td>Ozone</td>\n      <td>8-HR RUN AVG BEGIN HOUR</td>\n      <td>...</td>\n      <td>047</td>\n      <td>INSTRUMENTAL - ULTRA VIOLET</td>\n      <td>Denali NP &amp; PRES - Headquarters</td>\n      <td>DENALI NATIONAL PARK</td>\n      <td>Alaska</td>\n      <td>Denali</td>\n      <td>Not in a city</td>\n      <td>None</td>\n      <td>None</td>\n      <td>2020-05-31</td>\n    </tr>\n    <tr>\n      <td>4</td>\n      <td>02</td>\n      <td>068</td>\n      <td>0003</td>\n      <td>44201</td>\n      <td>1</td>\n      <td>63.7232</td>\n      <td>-148.9676</td>\n      <td>WGS84</td>\n      <td>Ozone</td>\n      <td>8-HR RUN AVG BEGIN HOUR</td>\n      <td>...</td>\n      <td>047</td>\n      <td>INSTRUMENTAL - ULTRA VIOLET</td>\n      <td>Denali NP &amp; PRES - Headquarters</td>\n      <td>DENALI NATIONAL PARK</td>\n      <td>Alaska</td>\n      <td>Denali</td>\n      <td>Not in a city</td>\n      <td>None</td>\n      <td>None</td>\n      <td>2020-05-31</td>\n    </tr>\n  </tbody>\n</table>\n<p>5 rows × 31 columns</p>\n</div>"
     },
     "metadata": {},
     "execution_count": 9
    }
   ],
   "source": [
    "allStates = pd.concat(dfs)\n",
    "allStates.head()"
   ]
  },
  {
   "cell_type": "code",
   "execution_count": 10,
   "metadata": {},
   "outputs": [
    {
     "output_type": "execute_result",
     "data": {
      "text/plain": "   latitude  longitude parameter pollutant_standard date_local  \\\n0   63.7232  -148.9676     Ozone  Ozone 8-hour 2015 2020-01-22   \n1   63.7232  -148.9676     Ozone  Ozone 8-hour 2015 2020-01-23   \n2   63.7232  -148.9676     Ozone  Ozone 8-hour 2015 2020-01-24   \n3   63.7232  -148.9676     Ozone  Ozone 8-hour 2015 2020-01-25   \n4   63.7232  -148.9676     Ozone  Ozone 8-hour 2015 2020-01-26   \n\n    units_of_measure  observation_count  observation_percent   state   county  \\\n0  Parts per million                 17                100.0  Alaska  Denali    \n1  Parts per million                 17                100.0  Alaska  Denali    \n2  Parts per million                 17                100.0  Alaska  Denali    \n3  Parts per million                 17                100.0  Alaska  Denali    \n4  Parts per million                 17                100.0  Alaska  Denali    \n\n            city  \n0  Not in a city  \n1  Not in a city  \n2  Not in a city  \n3  Not in a city  \n4  Not in a city  ",
      "text/html": "<div>\n<style scoped>\n    .dataframe tbody tr th:only-of-type {\n        vertical-align: middle;\n    }\n\n    .dataframe tbody tr th {\n        vertical-align: top;\n    }\n\n    .dataframe thead th {\n        text-align: right;\n    }\n</style>\n<table border=\"1\" class=\"dataframe\">\n  <thead>\n    <tr style=\"text-align: right;\">\n      <th></th>\n      <th>latitude</th>\n      <th>longitude</th>\n      <th>parameter</th>\n      <th>pollutant_standard</th>\n      <th>date_local</th>\n      <th>units_of_measure</th>\n      <th>observation_count</th>\n      <th>observation_percent</th>\n      <th>state</th>\n      <th>county</th>\n      <th>city</th>\n    </tr>\n  </thead>\n  <tbody>\n    <tr>\n      <td>0</td>\n      <td>63.7232</td>\n      <td>-148.9676</td>\n      <td>Ozone</td>\n      <td>Ozone 8-hour 2015</td>\n      <td>2020-01-22</td>\n      <td>Parts per million</td>\n      <td>17</td>\n      <td>100.0</td>\n      <td>Alaska</td>\n      <td>Denali</td>\n      <td>Not in a city</td>\n    </tr>\n    <tr>\n      <td>1</td>\n      <td>63.7232</td>\n      <td>-148.9676</td>\n      <td>Ozone</td>\n      <td>Ozone 8-hour 2015</td>\n      <td>2020-01-23</td>\n      <td>Parts per million</td>\n      <td>17</td>\n      <td>100.0</td>\n      <td>Alaska</td>\n      <td>Denali</td>\n      <td>Not in a city</td>\n    </tr>\n    <tr>\n      <td>2</td>\n      <td>63.7232</td>\n      <td>-148.9676</td>\n      <td>Ozone</td>\n      <td>Ozone 8-hour 2015</td>\n      <td>2020-01-24</td>\n      <td>Parts per million</td>\n      <td>17</td>\n      <td>100.0</td>\n      <td>Alaska</td>\n      <td>Denali</td>\n      <td>Not in a city</td>\n    </tr>\n    <tr>\n      <td>3</td>\n      <td>63.7232</td>\n      <td>-148.9676</td>\n      <td>Ozone</td>\n      <td>Ozone 8-hour 2015</td>\n      <td>2020-01-25</td>\n      <td>Parts per million</td>\n      <td>17</td>\n      <td>100.0</td>\n      <td>Alaska</td>\n      <td>Denali</td>\n      <td>Not in a city</td>\n    </tr>\n    <tr>\n      <td>4</td>\n      <td>63.7232</td>\n      <td>-148.9676</td>\n      <td>Ozone</td>\n      <td>Ozone 8-hour 2015</td>\n      <td>2020-01-26</td>\n      <td>Parts per million</td>\n      <td>17</td>\n      <td>100.0</td>\n      <td>Alaska</td>\n      <td>Denali</td>\n      <td>Not in a city</td>\n    </tr>\n  </tbody>\n</table>\n</div>"
     },
     "metadata": {},
     "execution_count": 10
    }
   ],
   "source": [
    "cleanStates = cleanDf(allStates)\n",
    "cleanStates.date_local = pd.to_datetime(cleanStates.date_local, yearfirst=True)\n",
    "cleanStates.head()"
   ]
  },
  {
   "cell_type": "code",
   "execution_count": 11,
   "metadata": {},
   "outputs": [
    {
     "output_type": "execute_result",
     "data": {
      "text/plain": "285248"
     },
     "metadata": {},
     "execution_count": 11
    }
   ],
   "source": [
    "len(cleanStates)"
   ]
  },
  {
   "cell_type": "code",
   "execution_count": 12,
   "metadata": {},
   "outputs": [],
   "source": [
    "cleanStates.to_csv(\"docs/data/air_quality.csv\")"
   ]
  },
  {
   "cell_type": "code",
   "execution_count": 13,
   "metadata": {},
   "outputs": [
    {
     "output_type": "execute_result",
     "data": {
      "text/plain": "   Unnamed: 0  latitude  longitude parameter pollutant_standard  date_local  \\\n0           0   63.7232  -148.9676     Ozone  Ozone 8-hour 2015  2020-01-22   \n1           1   63.7232  -148.9676     Ozone  Ozone 8-hour 2015  2020-01-23   \n2           2   63.7232  -148.9676     Ozone  Ozone 8-hour 2015  2020-01-24   \n3           3   63.7232  -148.9676     Ozone  Ozone 8-hour 2015  2020-01-25   \n4           4   63.7232  -148.9676     Ozone  Ozone 8-hour 2015  2020-01-26   \n\n    units_of_measure  observation_count  observation_percent   state   county  \\\n0  Parts per million                 17                100.0  Alaska  Denali    \n1  Parts per million                 17                100.0  Alaska  Denali    \n2  Parts per million                 17                100.0  Alaska  Denali    \n3  Parts per million                 17                100.0  Alaska  Denali    \n4  Parts per million                 17                100.0  Alaska  Denali    \n\n            city  \n0  Not in a city  \n1  Not in a city  \n2  Not in a city  \n3  Not in a city  \n4  Not in a city  ",
      "text/html": "<div>\n<style scoped>\n    .dataframe tbody tr th:only-of-type {\n        vertical-align: middle;\n    }\n\n    .dataframe tbody tr th {\n        vertical-align: top;\n    }\n\n    .dataframe thead th {\n        text-align: right;\n    }\n</style>\n<table border=\"1\" class=\"dataframe\">\n  <thead>\n    <tr style=\"text-align: right;\">\n      <th></th>\n      <th>Unnamed: 0</th>\n      <th>latitude</th>\n      <th>longitude</th>\n      <th>parameter</th>\n      <th>pollutant_standard</th>\n      <th>date_local</th>\n      <th>units_of_measure</th>\n      <th>observation_count</th>\n      <th>observation_percent</th>\n      <th>state</th>\n      <th>county</th>\n      <th>city</th>\n    </tr>\n  </thead>\n  <tbody>\n    <tr>\n      <td>0</td>\n      <td>0</td>\n      <td>63.7232</td>\n      <td>-148.9676</td>\n      <td>Ozone</td>\n      <td>Ozone 8-hour 2015</td>\n      <td>2020-01-22</td>\n      <td>Parts per million</td>\n      <td>17</td>\n      <td>100.0</td>\n      <td>Alaska</td>\n      <td>Denali</td>\n      <td>Not in a city</td>\n    </tr>\n    <tr>\n      <td>1</td>\n      <td>1</td>\n      <td>63.7232</td>\n      <td>-148.9676</td>\n      <td>Ozone</td>\n      <td>Ozone 8-hour 2015</td>\n      <td>2020-01-23</td>\n      <td>Parts per million</td>\n      <td>17</td>\n      <td>100.0</td>\n      <td>Alaska</td>\n      <td>Denali</td>\n      <td>Not in a city</td>\n    </tr>\n    <tr>\n      <td>2</td>\n      <td>2</td>\n      <td>63.7232</td>\n      <td>-148.9676</td>\n      <td>Ozone</td>\n      <td>Ozone 8-hour 2015</td>\n      <td>2020-01-24</td>\n      <td>Parts per million</td>\n      <td>17</td>\n      <td>100.0</td>\n      <td>Alaska</td>\n      <td>Denali</td>\n      <td>Not in a city</td>\n    </tr>\n    <tr>\n      <td>3</td>\n      <td>3</td>\n      <td>63.7232</td>\n      <td>-148.9676</td>\n      <td>Ozone</td>\n      <td>Ozone 8-hour 2015</td>\n      <td>2020-01-25</td>\n      <td>Parts per million</td>\n      <td>17</td>\n      <td>100.0</td>\n      <td>Alaska</td>\n      <td>Denali</td>\n      <td>Not in a city</td>\n    </tr>\n    <tr>\n      <td>4</td>\n      <td>4</td>\n      <td>63.7232</td>\n      <td>-148.9676</td>\n      <td>Ozone</td>\n      <td>Ozone 8-hour 2015</td>\n      <td>2020-01-26</td>\n      <td>Parts per million</td>\n      <td>17</td>\n      <td>100.0</td>\n      <td>Alaska</td>\n      <td>Denali</td>\n      <td>Not in a city</td>\n    </tr>\n  </tbody>\n</table>\n</div>"
     },
     "metadata": {},
     "execution_count": 13
    }
   ],
   "source": [
    "air_data = pd.read_csv(\"docs/data/air_quality.csv\")\n",
    "air_data.head()"
   ]
  },
  {
   "cell_type": "code",
   "execution_count": 16,
   "metadata": {},
   "outputs": [
    {
     "output_type": "execute_result",
     "data": {
      "text/plain": "                                   observation_count\ndate_local parameter                                \n2020-01-22 Carbon monoxide                 23.059701\n           Nitrogen dioxide (NO2)          22.786611\n           Ozone                           21.731360\n           Sulfur dioxide                  39.256944\n2020-01-23 Carbon monoxide                 22.996269",
      "text/html": "<div>\n<style scoped>\n    .dataframe tbody tr th:only-of-type {\n        vertical-align: middle;\n    }\n\n    .dataframe tbody tr th {\n        vertical-align: top;\n    }\n\n    .dataframe thead th {\n        text-align: right;\n    }\n</style>\n<table border=\"1\" class=\"dataframe\">\n  <thead>\n    <tr style=\"text-align: right;\">\n      <th></th>\n      <th></th>\n      <th>observation_count</th>\n    </tr>\n    <tr>\n      <th>date_local</th>\n      <th>parameter</th>\n      <th></th>\n    </tr>\n  </thead>\n  <tbody>\n    <tr>\n      <td rowspan=\"4\" valign=\"top\">2020-01-22</td>\n      <td>Carbon monoxide</td>\n      <td>23.059701</td>\n    </tr>\n    <tr>\n      <td>Nitrogen dioxide (NO2)</td>\n      <td>22.786611</td>\n    </tr>\n    <tr>\n      <td>Ozone</td>\n      <td>21.731360</td>\n    </tr>\n    <tr>\n      <td>Sulfur dioxide</td>\n      <td>39.256944</td>\n    </tr>\n    <tr>\n      <td>2020-01-23</td>\n      <td>Carbon monoxide</td>\n      <td>22.996269</td>\n    </tr>\n  </tbody>\n</table>\n</div>"
     },
     "metadata": {},
     "execution_count": 16
    }
   ],
   "source": [
    "#group data by date and parameter\n",
    "dateParam = air_data.groupby([\"date_local\", \"parameter\"])\n",
    "#Create df of aggregated data\n",
    "airDate = pd.DataFrame({\"observation_count\":dateParam.observation_count.mean()})\n",
    "airDate.head()"
   ]
  },
  {
   "cell_type": "code",
   "execution_count": 17,
   "metadata": {},
   "outputs": [],
   "source": [
    "#Read grouped data into another csv for line chart\n",
    "airDate.to_csv(\"docs/data/air_line.csv\")"
   ]
  },
  {
   "cell_type": "code",
   "execution_count": null,
   "metadata": {},
   "outputs": [],
   "source": []
  }
 ],
 "metadata": {
  "language_info": {
   "codemirror_mode": {
    "name": "ipython",
    "version": 3
   },
   "file_extension": ".py",
   "mimetype": "text/x-python",
   "name": "python",
   "nbconvert_exporter": "python",
   "pygments_lexer": "ipython3",
   "version": "3.7.4-final"
  },
  "orig_nbformat": 2,
  "kernelspec": {
   "name": "python37464bitbaseconda4a6a9ca8a5d44f3db2ab7a1db0eb01c7",
   "display_name": "Python 3.7.4 64-bit ('base': conda)"
  }
 },
 "nbformat": 4,
 "nbformat_minor": 2
}